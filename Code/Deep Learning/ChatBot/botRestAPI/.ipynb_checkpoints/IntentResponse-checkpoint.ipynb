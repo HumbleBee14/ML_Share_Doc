{
 "cells": [
  {
   "cell_type": "code",
   "execution_count": 1,
   "metadata": {},
   "outputs": [],
   "source": [
    "# import our chat-bot intents file\n",
    "import json\n",
    "\n",
    "#with open('intents.json') as json_data:\n",
    "#    intents = json.load(json_data)"
   ]
  },
  {
   "cell_type": "code",
   "execution_count": 2,
   "metadata": {},
   "outputs": [],
   "source": [
    "from flask import Flask,jsonify\n",
    "from flask import make_response\n",
    "from flask import abort\n",
    "\n",
    "app = Flask(__name__)"
   ]
  },
  {
   "cell_type": "code",
   "execution_count": 3,
   "metadata": {},
   "outputs": [],
   "source": [
    "@app.route('/api/intent/all/', methods=['GET'])\n",
    "def  getIntentResponse():\n",
    "    # Read all intent and return\n",
    "    with open('intents.json') as json_data:\n",
    "        intents = json.load(json_data)\n",
    "    \n",
    "    return jsonify({'all_intents':intents})"
   ]
  },
  {
   "cell_type": "code",
   "execution_count": 4,
   "metadata": {},
   "outputs": [],
   "source": [
    "@app.route('/api/intent/response/<intent_id>', methods=['GET'])\n",
    "def  getTagResponse(intent_id):\n",
    "    \n",
    "    # Read all intent and return\n",
    "    with open('intents.json') as json_data:\n",
    "        intents = json.load(json_data)\n",
    "    \n",
    "    # variable that will hold the response\n",
    "    resp = ''\n",
    "    \n",
    "    # Loop over all intent and find the tag\n",
    "    for intent in intents['intents']:\n",
    "        for intent_tag in intent['tag']:\n",
    "            if intent_tag == intent_id:\n",
    "                resp = intent['responses']\n",
    "    \n",
    "    # If not intent found throw error\n",
    "    if len(resp) == 0:\n",
    "        abort(404)\n",
    "        \n",
    "    return jsonify({'response':resp})"
   ]
  },
  {
   "cell_type": "code",
   "execution_count": null,
   "metadata": {},
   "outputs": [],
   "source": [
    "# loading\n",
    "@app.route('/api/review', methods=['GET'])\n",
    "def  getReviewPrediction():\n",
    "    with open('tokenizer.pickle', 'rb') as handle:\n",
    "        tokenizer_saved = pickle.load(handle)\n",
    "\n",
    "    # Returns a compiled model identical to the previous one\n",
    "    model_saved = load_model('my_model.h5')\n",
    "    \n",
    "    #review_sen = \"good food ,will come again\"\n",
    "    review_sen = \"bad service\"\n",
    "\n",
    "    tokens_sen = tokenizer_saved.texts_to_sequences([review_sen])\n",
    "    pad_tokens_sen = pad_sequences(tokens_sen, padding='post', maxlen=maxlen)\n",
    "    \n",
    "    val = model.predict_classes(pad_tokens_sen)\n",
    "    \n",
    "    \n",
    "    if (val[0][0] == 0):\n",
    "        reviewSentiment = 'Customer is gone forever,'\n",
    "    else:\n",
    "        reviewSentiment = 'you got back your customer'\n",
    "\n",
    "    return reviewSentiment;"
   ]
  },
  {
   "cell_type": "code",
   "execution_count": 5,
   "metadata": {},
   "outputs": [],
   "source": [
    "@app.errorhandler(404)\n",
    "def not_found(error):\n",
    "    return make_response(jsonify({'error': 'Not found'}), 404)"
   ]
  },
  {
   "cell_type": "code",
   "execution_count": null,
   "metadata": {},
   "outputs": [
    {
     "name": "stderr",
     "output_type": "stream",
     "text": [
      " * Running on http://127.0.0.1:21021/ (Press CTRL+C to quit)\n",
      "127.0.0.1 - - [05/Oct/2019 10:47:23] \"\u001b[33mGET / HTTP/1.1\u001b[0m\" 404 -\n",
      "127.0.0.1 - - [05/Oct/2019 10:47:26] \"\u001b[33mGET /favicon.ico HTTP/1.1\u001b[0m\" 404 -\n",
      "127.0.0.1 - - [05/Oct/2019 10:47:46] \"\u001b[33mGET / HTTP/1.1\u001b[0m\" 404 -\n",
      "127.0.0.1 - - [05/Oct/2019 10:47:51] \"\u001b[37mGET /api/intent/all/ HTTP/1.1\u001b[0m\" 200 -\n",
      "127.0.0.1 - - [05/Oct/2019 10:47:51] \"\u001b[33mGET /favicon.ico HTTP/1.1\u001b[0m\" 404 -\n",
      "127.0.0.1 - - [05/Oct/2019 10:48:49] \"\u001b[37mGET /api/intent/all/ HTTP/1.1\u001b[0m\" 200 -\n",
      "127.0.0.1 - - [05/Oct/2019 10:48:54] \"\u001b[33mGET /api/intent/response/ HTTP/1.1\u001b[0m\" 404 -\n",
      "127.0.0.1 - - [05/Oct/2019 10:48:54] \"\u001b[33mGET /favicon.ico HTTP/1.1\u001b[0m\" 404 -\n",
      "127.0.0.1 - - [05/Oct/2019 10:48:59] \"\u001b[37mGET /api/intent/response/goodbye HTTP/1.1\u001b[0m\" 200 -\n",
      "127.0.0.1 - - [05/Oct/2019 10:48:59] \"\u001b[33mGET /favicon.ico HTTP/1.1\u001b[0m\" 404 -\n",
      "127.0.0.1 - - [05/Oct/2019 10:49:39] \"\u001b[33mGET / HTTP/1.1\u001b[0m\" 404 -\n",
      "127.0.0.1 - - [05/Oct/2019 10:49:45] \"\u001b[37mGET /api/intent/all/ HTTP/1.1\u001b[0m\" 200 -\n"
     ]
    }
   ],
   "source": [
    "# Run the application\n",
    "if __name__ == '__main__':\n",
    "    app.run(host='127.0.0.1', port=21021)"
   ]
  },
  {
   "cell_type": "raw",
   "metadata": {},
   "source": [
    "\n",
    "intent_id = 'noanswer'\n",
    "resp = ''\n",
    "\n",
    "with open('intents.json') as json_data:\n",
    "    intents = json.load(json_data)\n",
    "    \n",
    "for intent in intents['intents']:\n",
    "    for intent_tag in intent['tag']:\n",
    "        print((intent_tag) )\n",
    "        if intent_tag == intent_id:\n",
    "            resp = intent['responses']\n",
    "            \n",
    "print(resp)\n",
    "\n"
   ]
  },
  {
   "cell_type": "code",
   "execution_count": 57,
   "metadata": {},
   "outputs": [],
   "source": [
    "import pickle"
   ]
  },
  {
   "cell_type": "code",
   "execution_count": null,
   "metadata": {},
   "outputs": [],
   "source": []
  }
 ],
 "metadata": {
  "kernelspec": {
   "display_name": "Python 3",
   "language": "python",
   "name": "python3"
  },
  "language_info": {
   "codemirror_mode": {
    "name": "ipython",
    "version": 3
   },
   "file_extension": ".py",
   "mimetype": "text/x-python",
   "name": "python",
   "nbconvert_exporter": "python",
   "pygments_lexer": "ipython3",
   "version": "3.6.7"
  }
 },
 "nbformat": 4,
 "nbformat_minor": 2
}
