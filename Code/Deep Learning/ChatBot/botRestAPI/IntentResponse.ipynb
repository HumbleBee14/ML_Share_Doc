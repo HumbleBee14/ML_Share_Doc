{
 "cells": [
  {
   "cell_type": "code",
   "execution_count": 1,
   "metadata": {},
   "outputs": [
    {
     "name": "stderr",
     "output_type": "stream",
     "text": [
      "Using TensorFlow backend.\n"
     ]
    }
   ],
   "source": [
    "# import our chat-bot intents file\n",
    "import json\n",
    "import pickle\n",
    "from keras.models import load_model\n",
    "from keras.preprocessing.sequence import pad_sequences\n",
    "#with open('intents.json') as json_data:\n",
    "#    intents = json.load(json_data)"
   ]
  },
  {
   "cell_type": "code",
   "execution_count": 2,
   "metadata": {},
   "outputs": [],
   "source": [
    "from flask import Flask,jsonify\n",
    "from flask import make_response\n",
    "from flask import abort\n",
    "from flask import request\n",
    "app = Flask(__name__)"
   ]
  },
  {
   "cell_type": "code",
   "execution_count": 3,
   "metadata": {},
   "outputs": [],
   "source": [
    "@app.route('/api/intent/all/', methods=['GET'])\n",
    "def  getIntentResponse():\n",
    "    # Read all intent and return\n",
    "    with open('intents.json') as json_data:\n",
    "        intents = json.load(json_data)\n",
    "    \n",
    "    return jsonify({'all_intents':intents})"
   ]
  },
  {
   "cell_type": "code",
   "execution_count": 4,
   "metadata": {},
   "outputs": [],
   "source": [
    "@app.route('/api/intent/response/<intent_id>', methods=['GET'])\n",
    "def  getTagResponse(intent_id):\n",
    "    \n",
    "    # Read all intent and return\n",
    "    with open('intents.json') as json_data:\n",
    "        intents = json.load(json_data)\n",
    "    \n",
    "    # variable that will hold the response\n",
    "    resp = ''\n",
    "    \n",
    "    # Loop over all intent and find the tag\n",
    "    for intent in intents['intents']:\n",
    "        for intent_tag in intent['tag']:\n",
    "            if intent_tag == intent_id:\n",
    "                resp = intent['responses']\n",
    "    \n",
    "    # If not intent found throw error\n",
    "    if len(resp) == 0:\n",
    "        abort(404)\n",
    "        \n",
    "    return jsonify({'response':resp})"
   ]
  },
  {
   "cell_type": "code",
   "execution_count": 5,
   "metadata": {},
   "outputs": [],
   "source": [
    "@app.route('/api/reviews/<review_text>', methods=['GET'])\n",
    "def  getPredictionReview(review_text):\n",
    "    \n",
    "    \n",
    "    userReview = review_text\n",
    "    \n",
    "    print('User review is :'+userReview )\n",
    "\n",
    "       \n",
    "    return jsonify({'response':userReview})"
   ]
  },
  {
   "cell_type": "code",
   "execution_count": 6,
   "metadata": {},
   "outputs": [],
   "source": [
    "# loading\n",
    "@app.route('/api/review/<id>', methods=['GET','POST'])\n",
    "def  getReviewPrediction(id):\n",
    "    \n",
    "    with open('tokenizer.pickle', 'rb') as handle:\n",
    "        tokenizer_saved = pickle.load(handle)\n",
    "\n",
    "    # Returns a compiled model identical to the previous one\n",
    "    model_saved = load_model('my_model.h5')\n",
    "    \n",
    "    content = request.json\n",
    "    review_sen = content['userReview']\n",
    "    #review_sen = \"wow service\"\n",
    "\n",
    "    tokens_sen = tokenizer_saved.texts_to_sequences([review_sen])\n",
    "    pad_tokens_sen = pad_sequences(tokens_sen, padding='post', maxlen=100)\n",
    "    \n",
    "    val = model_saved.predict_classes(pad_tokens_sen)\n",
    "    \n",
    "    \n",
    "    if (val[0][0] == 0):\n",
    "        reviewSentiment = 'Customer is gone forever,'\n",
    "    else:\n",
    "        reviewSentiment = 'you got back your customer'\n",
    "\n",
    "    return reviewSentiment;"
   ]
  },
  {
   "cell_type": "code",
   "execution_count": 7,
   "metadata": {},
   "outputs": [],
   "source": [
    "@app.route('/api/message/<msg_id>', methods=['GET', 'POST'])\n",
    "def add_message(msg_id):\n",
    "    content = request.json\n",
    "    print (content['mymsg'])\n",
    "    return jsonify({\"msg id\":msg_id})\n"
   ]
  },
  {
   "cell_type": "code",
   "execution_count": 8,
   "metadata": {},
   "outputs": [],
   "source": [
    "@app.errorhandler(404)\n",
    "def not_found(error):\n",
    "    return make_response(jsonify({'error': 'Not found'}), 404)"
   ]
  },
  {
   "cell_type": "code",
   "execution_count": null,
   "metadata": {},
   "outputs": [
    {
     "name": "stderr",
     "output_type": "stream",
     "text": [
      " * Running on http://127.0.0.1:21021/ (Press CTRL+C to quit)\n",
      "127.0.0.1 - - [05/Oct/2019 12:14:39] \"\u001b[37mPOST /api/review/4 HTTP/1.1\u001b[0m\" 200 -\n",
      "127.0.0.1 - - [05/Oct/2019 12:14:46] \"\u001b[37mPOST /api/review/4 HTTP/1.1\u001b[0m\" 200 -\n",
      "127.0.0.1 - - [05/Oct/2019 12:14:54] \"\u001b[37mPOST /api/review/4 HTTP/1.1\u001b[0m\" 200 -\n"
     ]
    }
   ],
   "source": [
    "# Run the application\n",
    "if __name__ == '__main__':\n",
    "    app.run(host='127.0.0.1', port=21021)"
   ]
  },
  {
   "cell_type": "raw",
   "metadata": {},
   "source": [
    "\n",
    "intent_id = 'noanswer'\n",
    "resp = ''\n",
    "\n",
    "with open('intents.json') as json_data:\n",
    "    intents = json.load(json_data)\n",
    "    \n",
    "for intent in intents['intents']:\n",
    "    for intent_tag in intent['tag']:\n",
    "        print((intent_tag) )\n",
    "        if intent_tag == intent_id:\n",
    "            resp = intent['responses']\n",
    "            \n",
    "print(resp)\n",
    "\n"
   ]
  },
  {
   "cell_type": "code",
   "execution_count": null,
   "metadata": {},
   "outputs": [],
   "source": []
  },
  {
   "cell_type": "code",
   "execution_count": null,
   "metadata": {},
   "outputs": [],
   "source": []
  }
 ],
 "metadata": {
  "kernelspec": {
   "display_name": "Python 3",
   "language": "python",
   "name": "python3"
  },
  "language_info": {
   "codemirror_mode": {
    "name": "ipython",
    "version": 3
   },
   "file_extension": ".py",
   "mimetype": "text/x-python",
   "name": "python",
   "nbconvert_exporter": "python",
   "pygments_lexer": "ipython3",
   "version": "3.6.8"
  }
 },
 "nbformat": 4,
 "nbformat_minor": 2
}
