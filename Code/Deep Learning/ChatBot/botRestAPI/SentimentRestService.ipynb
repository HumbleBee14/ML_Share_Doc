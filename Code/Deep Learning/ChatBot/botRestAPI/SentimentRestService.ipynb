{
 "cells": [
  {
   "cell_type": "code",
   "execution_count": 1,
   "metadata": {},
   "outputs": [
    {
     "name": "stderr",
     "output_type": "stream",
     "text": [
      "Using TensorFlow backend.\n"
     ]
    }
   ],
   "source": [
    "# import our chat-bot intents file\n",
    "import json\n",
    "import pickle\n",
    "from keras.models import load_model\n",
    "from keras.preprocessing.sequence import pad_sequences\n",
    "#with open('intents.json') as json_data:\n",
    "#    intents = json.load(json_data)"
   ]
  },
  {
   "cell_type": "code",
   "execution_count": 2,
   "metadata": {},
   "outputs": [],
   "source": [
    "from flask import Flask,jsonify\n",
    "from flask import make_response\n",
    "from flask import abort\n",
    "from flask import request\n",
    "app = Flask(__name__)"
   ]
  },
  {
   "cell_type": "code",
   "execution_count": 3,
   "metadata": {},
   "outputs": [],
   "source": [
    "# loading\n",
    "@app.route('/api/review/sentiments', methods=['GET','POST'])\n",
    "def  getReviewPrediction():\n",
    "    \n",
    "    # Load tokenizer object user to create the model\n",
    "    with open('tokenizer.pickle', 'rb') as handle:\n",
    "        tokenizer_saved = pickle.load(handle)\n",
    "\n",
    "    # Returns a compiled model identical to the previous one\n",
    "    model_saved = load_model('my_model.h5')\n",
    "    \n",
    "    content = request.json\n",
    "    review_sen = content['userReview']\n",
    "    #review_sen = \"wow service\"\n",
    "\n",
    "    tokens_sen = tokenizer_saved.texts_to_sequences([review_sen])\n",
    "    pad_tokens_sen = pad_sequences(tokens_sen, padding='post', maxlen=100)\n",
    "    \n",
    "    val = model_saved.predict_classes(pad_tokens_sen)\n",
    "    \n",
    "    \n",
    "    if (val[0][0] == 0):\n",
    "        reviewSentiment = 'Customer is gone forever,'\n",
    "    else:\n",
    "        reviewSentiment = 'you got back your customer'\n",
    "\n",
    "    return reviewSentiment;"
   ]
  },
  {
   "cell_type": "code",
   "execution_count": null,
   "metadata": {},
   "outputs": [
    {
     "name": "stdout",
     "output_type": "stream",
     "text": [
      " * Serving Flask app \"__main__\" (lazy loading)\n",
      " * Environment: production\n",
      "   WARNING: This is a development server. Do not use it in a production deployment.\n",
      "   Use a production WSGI server instead.\n",
      " * Debug mode: off\n"
     ]
    },
    {
     "name": "stderr",
     "output_type": "stream",
     "text": [
      " * Running on http://127.0.0.1:21021/ (Press CTRL+C to quit)\n",
      "127.0.0.1 - - [13/Oct/2019 11:51:48] \"\u001b[37mPOST /api/review/sentiments HTTP/1.1\u001b[0m\" 200 -\n",
      "[2019-10-13 11:52:05,705] ERROR in app: Exception on /api/review/sentiments [POST]\n",
      "Traceback (most recent call last):\n",
      "  File \"/Users/rajnishechauhan/anaconda/envs/dl_env/lib/python3.6/site-packages/tensorflow/python/client/session.py\", line 1092, in _run\n",
      "    subfeed, allow_tensor=True, allow_operation=False)\n",
      "  File \"/Users/rajnishechauhan/anaconda/envs/dl_env/lib/python3.6/site-packages/tensorflow/python/framework/ops.py\", line 3490, in as_graph_element\n",
      "    return self._as_graph_element_locked(obj, allow_tensor, allow_operation)\n",
      "  File \"/Users/rajnishechauhan/anaconda/envs/dl_env/lib/python3.6/site-packages/tensorflow/python/framework/ops.py\", line 3569, in _as_graph_element_locked\n",
      "    raise ValueError(\"Tensor %s is not an element of this graph.\" % obj)\n",
      "ValueError: Tensor Tensor(\"Placeholder:0\", shape=(1747, 50), dtype=float32) is not an element of this graph.\n",
      "\n",
      "During handling of the above exception, another exception occurred:\n",
      "\n",
      "Traceback (most recent call last):\n",
      "  File \"/Users/rajnishechauhan/anaconda/envs/dl_env/lib/python3.6/site-packages/flask/app.py\", line 2311, in wsgi_app\n",
      "    response = self.full_dispatch_request()\n",
      "  File \"/Users/rajnishechauhan/anaconda/envs/dl_env/lib/python3.6/site-packages/flask/app.py\", line 1834, in full_dispatch_request\n",
      "    rv = self.handle_user_exception(e)\n",
      "  File \"/Users/rajnishechauhan/anaconda/envs/dl_env/lib/python3.6/site-packages/flask/app.py\", line 1737, in handle_user_exception\n",
      "    reraise(exc_type, exc_value, tb)\n",
      "  File \"/Users/rajnishechauhan/anaconda/envs/dl_env/lib/python3.6/site-packages/flask/_compat.py\", line 36, in reraise\n",
      "    raise value\n",
      "  File \"/Users/rajnishechauhan/anaconda/envs/dl_env/lib/python3.6/site-packages/flask/app.py\", line 1832, in full_dispatch_request\n",
      "    rv = self.dispatch_request()\n",
      "  File \"/Users/rajnishechauhan/anaconda/envs/dl_env/lib/python3.6/site-packages/flask/app.py\", line 1818, in dispatch_request\n",
      "    return self.view_functions[rule.endpoint](**req.view_args)\n",
      "  File \"<ipython-input-3-11668220eb57>\", line 10, in getReviewPrediction\n",
      "    model_saved = load_model('my_model.h5')\n",
      "  File \"/Users/rajnishechauhan/anaconda/envs/dl_env/lib/python3.6/site-packages/keras/engine/saving.py\", line 419, in load_model\n",
      "    model = _deserialize_model(f, custom_objects, compile)\n",
      "  File \"/Users/rajnishechauhan/anaconda/envs/dl_env/lib/python3.6/site-packages/keras/engine/saving.py\", line 287, in _deserialize_model\n",
      "    K.batch_set_value(weight_value_tuples)\n",
      "  File \"/Users/rajnishechauhan/anaconda/envs/dl_env/lib/python3.6/site-packages/keras/backend/tensorflow_backend.py\", line 2470, in batch_set_value\n",
      "    get_session().run(assign_ops, feed_dict=feed_dict)\n",
      "  File \"/Users/rajnishechauhan/anaconda/envs/dl_env/lib/python3.6/site-packages/tensorflow/python/client/session.py\", line 929, in run\n",
      "    run_metadata_ptr)\n",
      "  File \"/Users/rajnishechauhan/anaconda/envs/dl_env/lib/python3.6/site-packages/tensorflow/python/client/session.py\", line 1095, in _run\n",
      "    'Cannot interpret feed_dict key as Tensor: ' + e.args[0])\n",
      "TypeError: Cannot interpret feed_dict key as Tensor: Tensor Tensor(\"Placeholder:0\", shape=(1747, 50), dtype=float32) is not an element of this graph.\n",
      "127.0.0.1 - - [13/Oct/2019 11:52:05] \"\u001b[1m\u001b[35mPOST /api/review/sentiments HTTP/1.1\u001b[0m\" 500 -\n",
      "[2019-10-13 11:52:35,947] ERROR in app: Exception on /api/review/sentiments [POST]\n",
      "Traceback (most recent call last):\n",
      "  File \"/Users/rajnishechauhan/anaconda/envs/dl_env/lib/python3.6/site-packages/tensorflow/python/client/session.py\", line 1092, in _run\n",
      "    subfeed, allow_tensor=True, allow_operation=False)\n",
      "  File \"/Users/rajnishechauhan/anaconda/envs/dl_env/lib/python3.6/site-packages/tensorflow/python/framework/ops.py\", line 3490, in as_graph_element\n",
      "    return self._as_graph_element_locked(obj, allow_tensor, allow_operation)\n",
      "  File \"/Users/rajnishechauhan/anaconda/envs/dl_env/lib/python3.6/site-packages/tensorflow/python/framework/ops.py\", line 3569, in _as_graph_element_locked\n",
      "    raise ValueError(\"Tensor %s is not an element of this graph.\" % obj)\n",
      "ValueError: Tensor Tensor(\"Placeholder:0\", shape=(1747, 50), dtype=float32) is not an element of this graph.\n",
      "\n",
      "During handling of the above exception, another exception occurred:\n",
      "\n",
      "Traceback (most recent call last):\n",
      "  File \"/Users/rajnishechauhan/anaconda/envs/dl_env/lib/python3.6/site-packages/flask/app.py\", line 2311, in wsgi_app\n",
      "    response = self.full_dispatch_request()\n",
      "  File \"/Users/rajnishechauhan/anaconda/envs/dl_env/lib/python3.6/site-packages/flask/app.py\", line 1834, in full_dispatch_request\n",
      "    rv = self.handle_user_exception(e)\n",
      "  File \"/Users/rajnishechauhan/anaconda/envs/dl_env/lib/python3.6/site-packages/flask/app.py\", line 1737, in handle_user_exception\n",
      "    reraise(exc_type, exc_value, tb)\n",
      "  File \"/Users/rajnishechauhan/anaconda/envs/dl_env/lib/python3.6/site-packages/flask/_compat.py\", line 36, in reraise\n",
      "    raise value\n",
      "  File \"/Users/rajnishechauhan/anaconda/envs/dl_env/lib/python3.6/site-packages/flask/app.py\", line 1832, in full_dispatch_request\n",
      "    rv = self.dispatch_request()\n",
      "  File \"/Users/rajnishechauhan/anaconda/envs/dl_env/lib/python3.6/site-packages/flask/app.py\", line 1818, in dispatch_request\n",
      "    return self.view_functions[rule.endpoint](**req.view_args)\n",
      "  File \"<ipython-input-3-11668220eb57>\", line 10, in getReviewPrediction\n",
      "    model_saved = load_model('my_model.h5')\n",
      "  File \"/Users/rajnishechauhan/anaconda/envs/dl_env/lib/python3.6/site-packages/keras/engine/saving.py\", line 419, in load_model\n",
      "    model = _deserialize_model(f, custom_objects, compile)\n",
      "  File \"/Users/rajnishechauhan/anaconda/envs/dl_env/lib/python3.6/site-packages/keras/engine/saving.py\", line 287, in _deserialize_model\n",
      "    K.batch_set_value(weight_value_tuples)\n",
      "  File \"/Users/rajnishechauhan/anaconda/envs/dl_env/lib/python3.6/site-packages/keras/backend/tensorflow_backend.py\", line 2470, in batch_set_value\n",
      "    get_session().run(assign_ops, feed_dict=feed_dict)\n",
      "  File \"/Users/rajnishechauhan/anaconda/envs/dl_env/lib/python3.6/site-packages/tensorflow/python/client/session.py\", line 929, in run\n",
      "    run_metadata_ptr)\n",
      "  File \"/Users/rajnishechauhan/anaconda/envs/dl_env/lib/python3.6/site-packages/tensorflow/python/client/session.py\", line 1095, in _run\n",
      "    'Cannot interpret feed_dict key as Tensor: ' + e.args[0])\n",
      "TypeError: Cannot interpret feed_dict key as Tensor: Tensor Tensor(\"Placeholder:0\", shape=(1747, 50), dtype=float32) is not an element of this graph.\n",
      "127.0.0.1 - - [13/Oct/2019 11:52:35] \"\u001b[1m\u001b[35mPOST /api/review/sentiments HTTP/1.1\u001b[0m\" 500 -\n"
     ]
    }
   ],
   "source": [
    "# Run the application\n",
    "if __name__ == '__main__':\n",
    "    app.run(host='127.0.0.1', port=21021)"
   ]
  },
  {
   "cell_type": "code",
   "execution_count": null,
   "metadata": {},
   "outputs": [],
   "source": []
  }
 ],
 "metadata": {
  "kernelspec": {
   "display_name": "Python 3",
   "language": "python",
   "name": "python3"
  },
  "language_info": {
   "codemirror_mode": {
    "name": "ipython",
    "version": 3
   },
   "file_extension": ".py",
   "mimetype": "text/x-python",
   "name": "python",
   "nbconvert_exporter": "python",
   "pygments_lexer": "ipython3",
   "version": "3.6.8"
  }
 },
 "nbformat": 4,
 "nbformat_minor": 2
}
