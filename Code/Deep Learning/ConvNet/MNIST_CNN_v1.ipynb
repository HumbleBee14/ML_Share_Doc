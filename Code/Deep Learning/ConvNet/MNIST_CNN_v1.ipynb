{
 "cells": [
  {
   "cell_type": "code",
   "execution_count": 2,
   "metadata": {},
   "outputs": [
    {
     "name": "stderr",
     "output_type": "stream",
     "text": [
      "Using TensorFlow backend.\n"
     ]
    }
   ],
   "source": [
    "from keras import backend as K\n",
    "from keras.models import Sequential\n",
    "from keras.layers.convolutional import Conv2D\n",
    "from keras.layers.convolutional import MaxPooling2D\n",
    "from keras.layers.core import Activation\n",
    "from keras.layers.core import Flatten\n",
    "from keras.layers.core import Dense\n",
    "from keras.datasets import mnist\n",
    "from keras.utils import np_utils\n",
    "from keras.optimizers import SGD, RMSprop, Adam\n",
    "import numpy as np\n"
   ]
  },
  {
   "cell_type": "code",
   "execution_count": 3,
   "metadata": {},
   "outputs": [],
   "source": [
    "# network and training\n",
    "NB_EPOCH = 20\n",
    "BATCH_SIZE = 128\n",
    "VERBOSE = 1\n",
    "OPTIMIZER = Adam()\n",
    "VALIDATION_SPLIT=0.2\n",
    "\n",
    "IMG_ROWS, IMG_COLS = 28, 28 # input image dimensions\n",
    "NB_CLASSES = 10  # number of outputs = number of digits\n",
    "INPUT_SHAPE = (1, IMG_ROWS, IMG_COLS)"
   ]
  },
  {
   "cell_type": "code",
   "execution_count": 24,
   "metadata": {},
   "outputs": [],
   "source": [
    "(X_train, y_train), (X_test, y_test) = mnist.load_data()\n",
    "\n",
    "K.set_image_dim_ordering(\"th\")\n",
    "#(depth, input_depth, rows, cols)\n",
    "X_train = X_train.astype('float32')\n",
    "X_test = X_test.astype('float32')\n",
    "X_train /= 255 \n",
    "X_test /= 255  "
   ]
  },
  {
   "cell_type": "code",
   "execution_count": 25,
   "metadata": {},
   "outputs": [
    {
     "name": "stdout",
     "output_type": "stream",
     "text": [
      "60000 train samples\n",
      "10000 test samples\n"
     ]
    }
   ],
   "source": [
    "X_train = X_train[:, np.newaxis, :, :]\n",
    "X_test = X_test[:, np.newaxis, :, :]\n",
    "\n",
    "print(X_train.shape[0], 'train samples')\n",
    "print(X_test.shape[0], 'test samples')\n"
   ]
  },
  {
   "cell_type": "code",
   "execution_count": 26,
   "metadata": {},
   "outputs": [
    {
     "name": "stdout",
     "output_type": "stream",
     "text": [
      "(60000, 1, 28, 28)\n"
     ]
    }
   ],
   "source": [
    "print(X_train.shape)"
   ]
  },
  {
   "cell_type": "code",
   "execution_count": null,
   "metadata": {},
   "outputs": [],
   "source": []
  },
  {
   "cell_type": "code",
   "execution_count": 27,
   "metadata": {},
   "outputs": [],
   "source": [
    "y_train = np_utils.to_categorical(y_train, NB_CLASSES)\n",
    "y_test = np_utils.to_categorical(y_test, NB_CLASSES)\n"
   ]
  },
  {
   "cell_type": "code",
   "execution_count": 30,
   "metadata": {},
   "outputs": [],
   "source": [
    "model = Sequential()\n",
    "# CONV => RELU => POOL\n",
    "model.add(Conv2D(20, kernel_size=5, padding=\"same\",input_shape=INPUT_SHAPE))\n",
    "\n",
    "model.add(Activation(\"relu\"))\n",
    "\n",
    "model.add(MaxPooling2D(pool_size=(2, 2), strides=(2, 2)))"
   ]
  },
  {
   "cell_type": "code",
   "execution_count": 31,
   "metadata": {},
   "outputs": [],
   "source": [
    "model.add(Conv2D(50, kernel_size=5, padding=\"same\"))\n",
    "model.add(Activation(\"relu\"))\n",
    "model.add(MaxPooling2D(pool_size=(2, 2), strides=(2, 2)))\n"
   ]
  },
  {
   "cell_type": "code",
   "execution_count": 32,
   "metadata": {},
   "outputs": [],
   "source": [
    "model.add(Flatten())\n",
    "model.add(Dense(500))\n",
    "model.add(Activation(\"relu\"))"
   ]
  },
  {
   "cell_type": "code",
   "execution_count": 33,
   "metadata": {},
   "outputs": [],
   "source": [
    "model.add(Dense(NB_CLASSES))\n",
    "model.add(Activation(\"softmax\"))\n"
   ]
  },
  {
   "cell_type": "code",
   "execution_count": 34,
   "metadata": {},
   "outputs": [
    {
     "name": "stdout",
     "output_type": "stream",
     "text": [
      "_________________________________________________________________\n",
      "Layer (type)                 Output Shape              Param #   \n",
      "=================================================================\n",
      "conv2d_7 (Conv2D)            (None, 20, 28, 28)        520       \n",
      "_________________________________________________________________\n",
      "activation_12 (Activation)   (None, 20, 28, 28)        0         \n",
      "_________________________________________________________________\n",
      "max_pooling2d_7 (MaxPooling2 (None, 20, 14, 14)        0         \n",
      "_________________________________________________________________\n",
      "conv2d_8 (Conv2D)            (None, 50, 14, 14)        25050     \n",
      "_________________________________________________________________\n",
      "activation_13 (Activation)   (None, 50, 14, 14)        0         \n",
      "_________________________________________________________________\n",
      "max_pooling2d_8 (MaxPooling2 (None, 50, 7, 7)          0         \n",
      "_________________________________________________________________\n",
      "flatten_4 (Flatten)          (None, 2450)              0         \n",
      "_________________________________________________________________\n",
      "dense_6 (Dense)              (None, 500)               1225500   \n",
      "_________________________________________________________________\n",
      "activation_14 (Activation)   (None, 500)               0         \n",
      "_________________________________________________________________\n",
      "dense_7 (Dense)              (None, 10)                5010      \n",
      "_________________________________________________________________\n",
      "activation_15 (Activation)   (None, 10)                0         \n",
      "=================================================================\n",
      "Total params: 1,256,080\n",
      "Trainable params: 1,256,080\n",
      "Non-trainable params: 0\n",
      "_________________________________________________________________\n"
     ]
    }
   ],
   "source": [
    "model.summary()"
   ]
  },
  {
   "cell_type": "code",
   "execution_count": 35,
   "metadata": {},
   "outputs": [],
   "source": [
    "model.compile(loss=\"categorical_crossentropy\", optimizer=OPTIMIZER,metrics=[\"accuracy\"])"
   ]
  },
  {
   "cell_type": "code",
   "execution_count": 36,
   "metadata": {},
   "outputs": [
    {
     "name": "stdout",
     "output_type": "stream",
     "text": [
      "Train on 48000 samples, validate on 12000 samples\n",
      "Epoch 1/20\n",
      "48000/48000 [==============================] - 284s 6ms/step - loss: 0.1801 - acc: 0.9475 - val_loss: 0.0639 - val_acc: 0.9798\n",
      "Epoch 2/20\n",
      "48000/48000 [==============================] - 341s 7ms/step - loss: 0.0485 - acc: 0.9850 - val_loss: 0.0410 - val_acc: 0.9889\n",
      "Epoch 3/20\n",
      "48000/48000 [==============================] - 365s 8ms/step - loss: 0.0330 - acc: 0.9900 - val_loss: 0.0395 - val_acc: 0.9883\n",
      "Epoch 4/20\n",
      "48000/48000 [==============================] - 453s 9ms/step - loss: 0.0246 - acc: 0.9917 - val_loss: 0.0335 - val_acc: 0.9898\n",
      "Epoch 5/20\n",
      "48000/48000 [==============================] - 586s 12ms/step - loss: 0.0177 - acc: 0.9944 - val_loss: 0.0400 - val_acc: 0.9897\n",
      "Epoch 6/20\n",
      "48000/48000 [==============================] - 445s 9ms/step - loss: 0.0148 - acc: 0.9952 - val_loss: 0.0340 - val_acc: 0.9905\n",
      "Epoch 7/20\n",
      "48000/48000 [==============================] - 375s 8ms/step - loss: 0.0122 - acc: 0.9962 - val_loss: 0.0395 - val_acc: 0.9894\n",
      "Epoch 8/20\n",
      "48000/48000 [==============================] - 377s 8ms/step - loss: 0.0086 - acc: 0.9971 - val_loss: 0.0401 - val_acc: 0.9904\n",
      "Epoch 9/20\n",
      "48000/48000 [==============================] - 380s 8ms/step - loss: 0.0075 - acc: 0.9974 - val_loss: 0.0523 - val_acc: 0.9871\n",
      "Epoch 10/20\n",
      "48000/48000 [==============================] - 3522s 73ms/step - loss: 0.0081 - acc: 0.9972 - val_loss: 0.0397 - val_acc: 0.9895\n",
      "Epoch 11/20\n",
      "48000/48000 [==============================] - 367s 8ms/step - loss: 0.0061 - acc: 0.9981 - val_loss: 0.0339 - val_acc: 0.9916\n",
      "Epoch 12/20\n",
      "48000/48000 [==============================] - 367s 8ms/step - loss: 0.0060 - acc: 0.9980 - val_loss: 0.0441 - val_acc: 0.9892\n",
      "Epoch 13/20\n",
      "48000/48000 [==============================] - 366s 8ms/step - loss: 0.0063 - acc: 0.9979 - val_loss: 0.0410 - val_acc: 0.9898\n",
      "Epoch 14/20\n",
      "48000/48000 [==============================] - 386s 8ms/step - loss: 0.0054 - acc: 0.9981 - val_loss: 0.0396 - val_acc: 0.9922\n",
      "Epoch 15/20\n",
      "48000/48000 [==============================] - 384s 8ms/step - loss: 0.0041 - acc: 0.9987 - val_loss: 0.0337 - val_acc: 0.9920\n",
      "Epoch 16/20\n",
      "48000/48000 [==============================] - 366s 8ms/step - loss: 0.0046 - acc: 0.9982 - val_loss: 0.0621 - val_acc: 0.9863\n",
      "Epoch 17/20\n",
      "48000/48000 [==============================] - 391s 8ms/step - loss: 0.0045 - acc: 0.9983 - val_loss: 0.0548 - val_acc: 0.9882\n",
      "Epoch 18/20\n",
      "48000/48000 [==============================] - 379s 8ms/step - loss: 0.0051 - acc: 0.9980 - val_loss: 0.0482 - val_acc: 0.9914\n",
      "Epoch 19/20\n",
      "48000/48000 [==============================] - 408s 8ms/step - loss: 0.0040 - acc: 0.9987 - val_loss: 0.0418 - val_acc: 0.9912\n",
      "Epoch 20/20\n",
      "48000/48000 [==============================] - 384s 8ms/step - loss: 0.0045 - acc: 0.9987 - val_loss: 0.0427 - val_acc: 0.9908\n"
     ]
    }
   ],
   "source": [
    "history = model.fit(X_train, y_train, batch_size=BATCH_SIZE, epochs=NB_EPOCH, \n",
    "                    verbose=VERBOSE, validation_split=VALIDATION_SPLIT)\n"
   ]
  },
  {
   "cell_type": "code",
   "execution_count": 37,
   "metadata": {},
   "outputs": [
    {
     "name": "stdout",
     "output_type": "stream",
     "text": [
      "10000/10000 [==============================] - 38s 4ms/step\n",
      "\n",
      "Test score: 0.9904\n"
     ]
    }
   ],
   "source": [
    "score = model.evaluate(X_test, y_test, verbose=VERBOSE)\n",
    "print(\"\\nTest score:\", score[1])"
   ]
  },
  {
   "cell_type": "code",
   "execution_count": 38,
   "metadata": {},
   "outputs": [],
   "source": [
    "import matplotlib.pyplot as plt"
   ]
  },
  {
   "cell_type": "code",
   "execution_count": 39,
   "metadata": {},
   "outputs": [
    {
     "data": {
      "image/png": "[encoded data removed]",
      "text/plain": [
       "<Figure size 432x288 with 1 Axes>"
      ]
     },
     "metadata": {
      "needs_background": "light"
     },
     "output_type": "display_data"
    },
    {
     "data": {
      "image/png": "[encoded data removed]",
      "text/plain": [
       "<Figure size 432x288 with 1 Axes>"
      ]
     },
     "metadata": {
      "needs_background": "light"
     },
     "output_type": "display_data"
    }
   ],
   "source": [
    "\n",
    "# summarize history for accuracy\n",
    "plt.plot(history.history['acc'])\n",
    "plt.plot(history.history['val_acc'])\n",
    "plt.title('model accuracy')\n",
    "plt.ylabel('accuracy')\n",
    "plt.xlabel('epoch')\n",
    "plt.legend(['train', 'test'], loc='upper left')\n",
    "plt.show()\n",
    "# summarize history for loss\n",
    "plt.plot(history.history['loss'])\n",
    "plt.plot(history.history['val_loss'])\n",
    "plt.title('model loss')\n",
    "plt.ylabel('loss')\n",
    "plt.xlabel('epoch')\n",
    "plt.legend(['train', 'test'], loc='upper left')\n",
    "plt.show()"
   ]
  },
  {
   "cell_type": "code",
   "execution_count": null,
   "metadata": {},
   "outputs": [],
   "source": []
  },
  {
   "cell_type": "code",
   "execution_count": null,
   "metadata": {},
   "outputs": [],
   "source": []
  }
 ],
 "metadata": {
  "kernelspec": {
   "display_name": "Python 3",
   "language": "python",
   "name": "python3"
  },
  "language_info": {
   "codemirror_mode": {
    "name": "ipython",
    "version": 3
   },
   "file_extension": ".py",
   "mimetype": "text/x-python",
   "name": "python",
   "nbconvert_exporter": "python",
   "pygments_lexer": "ipython3",
   "version": "3.6.8"
  }
 },
 "nbformat": 4,
 "nbformat_minor": 2
}
