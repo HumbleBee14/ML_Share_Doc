{
 "cells": [
  {
   "cell_type": "code",
   "execution_count": 1,
   "metadata": {},
   "outputs": [],
   "source": [
    "import pandas as pd\n",
    "from sklearn.model_selection import train_test_split"
   ]
  },
  {
   "cell_type": "code",
   "execution_count": 2,
   "metadata": {},
   "outputs": [],
   "source": [
    "reviewDataPath = {'yelp': '../SentimentAnalysis/data/yelp_labelled.txt',\n",
    "                 'amazon': '../SentimentAnalysis/data/amazon_cells_labelled.txt',\n",
    "                 'imdb': '../SentimentAnalysis/data/imdb_labelled.txt'}\n",
    "reviewList = []\n",
    "\n",
    "for source, filepath in reviewDataPath.items():\n",
    "    df = pd.read_csv(filepath, names=['sentence', 'label'], sep='\\t')\n",
    "    # Add another column filled with the source name\n",
    "    df['source'] = source \n",
    "    reviewList.append(df)\n",
    "\n",
    "df = pd.concat(reviewList)\n",
    "\n"
   ]
  },
  {
   "cell_type": "code",
   "execution_count": 3,
   "metadata": {},
   "outputs": [],
   "source": [
    "review_yelp = df[df['source'] == 'yelp']\n",
    "\n",
    "sentences = review_yelp['sentence'].values\n",
    "\n",
    "y = review_yelp['label'].values\n",
    "\n",
    "sentences_train, sentences_test, y_train, y_test = train_test_split(\n",
    "    sentences, y, test_size=0.25, random_state=1000)\n",
    "\n"
   ]
  },
  {
   "cell_type": "code",
   "execution_count": 4,
   "metadata": {},
   "outputs": [
    {
     "name": "stderr",
     "output_type": "stream",
     "text": [
      "Using TensorFlow backend.\n"
     ]
    }
   ],
   "source": [
    "from keras.preprocessing.text import Tokenizer\n",
    "\n",
    "tokenizer = Tokenizer(num_words=5000)\n",
    "\n",
    "tokenizer.fit_on_texts(sentences_train)\n",
    "\n",
    "X_train = tokenizer.texts_to_sequences(sentences_train)\n",
    "X_test = tokenizer.texts_to_sequences(sentences_test)\n",
    "\n",
    "vocab_size = len(tokenizer.word_index) + 1\n",
    "\n",
    "from keras.preprocessing.sequence import pad_sequences\n",
    "\n",
    "maxlen = 100\n",
    "\n",
    "X_train = pad_sequences(X_train, padding='post', maxlen=maxlen)\n",
    "X_test = pad_sequences(X_test, padding='post', maxlen=maxlen)\n"
   ]
  },
  {
   "cell_type": "code",
   "execution_count": 6,
   "metadata": {},
   "outputs": [],
   "source": [
    "dfSentences = pd.DataFrame(data = sentences_train,columns=['sentence'])"
   ]
  },
  {
   "cell_type": "code",
   "execution_count": 7,
   "metadata": {},
   "outputs": [],
   "source": [
    "# For each row, combine all the columns into one column\n",
    "df1 = pd.DataFrame({'review_text':dfSentences['sentence']})"
   ]
  },
  {
   "cell_type": "code",
   "execution_count": 9,
   "metadata": {},
   "outputs": [
    {
     "data": {
      "text/plain": [
       "0    [The, food, was, barely, lukewarm, ,, so, it, ...\n",
       "1    [Sorry, ,, I, will, not, be, getting, food, fr...\n",
       "2    [Of, all, the, dishes, ,, the, salmon, was, th...\n",
       "3    [The, fries, were, not, hot, ,, and, neither, ...\n",
       "4    [In, fact, I, 'm, going, to, round, up, to, 4,...\n",
       "Name: review_text, dtype: object"
      ]
     },
     "execution_count": 9,
     "metadata": {},
     "output_type": "execute_result"
    }
   ],
   "source": [
    "from nltk.tokenize import word_tokenize\n",
    "#nltk.download('punkt')\n",
    "# Toeknize \n",
    "df2 = df1['review_text'].apply(lambda x: word_tokenize(x))\n",
    "df2.head()"
   ]
  },
  {
   "cell_type": "code",
   "execution_count": 10,
   "metadata": {},
   "outputs": [],
   "source": [
    "# Create the list of list format of the custom corpus for gensim modeling \n",
    "\n",
    "newlist = []\n",
    "for i in df2:\n",
    "    newlist.append(i)"
   ]
  },
  {
   "cell_type": "code",
   "execution_count": 11,
   "metadata": {},
   "outputs": [
    {
     "name": "stdout",
     "output_type": "stream",
     "text": [
      "[['The', 'food', 'was', 'barely', 'lukewarm', ',', 'so', 'it', 'must', 'have', 'been', 'sitting', 'waiting', 'for', 'the', 'server', 'to', 'bring', 'it', 'out', 'to', 'us', '.'], ['Sorry', ',', 'I', 'will', 'not', 'be', 'getting', 'food', 'from', 'here', 'anytime', 'soon', ':', '('], ['Of', 'all', 'the', 'dishes', ',', 'the', 'salmon', 'was', 'the', 'best', ',', 'but', 'all', 'were', 'great', '.'], ['The', 'fries', 'were', 'not', 'hot', ',', 'and', 'neither', 'was', 'my', 'burger', '.'], ['In', 'fact', 'I', \"'m\", 'going', 'to', 'round', 'up', 'to', '4', 'stars', ',', 'just', 'because', 'she', 'was', 'so', 'awesome', '.'], ['Will', 'go', 'back', 'next', 'trip', 'out', '.'], ['This', 'was', 'my', 'first', 'crawfish', 'experience', ',', 'and', 'it', 'was', 'delicious', '!'], ['I', 'could', 'barely', 'stomach', 'the', 'meal', ',', 'but', 'did', \"n't\", 'complain', 'because', 'it', 'was', 'a', 'business', 'lunch', '.'], ['A', 'great', 'way', 'to', 'finish', 'a', 'great', '.'], ['Best', 'service', 'and', 'food', 'ever', ',', 'Maria', 'our', 'server', 'was', 'so', 'good', 'and', 'friendly', 'she', 'made', 'our', 'day', '.'], ['Good', 'food', ',', 'good', 'service', '.'], ['My', 'drink', 'was', 'never', 'empty', 'and', 'he', 'made', 'some', 'really', 'great', 'menu', 'suggestions', '.'], ['Be', 'sure', 'to', 'order', 'dessert', ',', 'even', 'if', 'you', 'need', 'to', 'pack', 'it', 'to-go', '-', 'the', 'tiramisu', 'and', 'cannoli', 'are', 'both', 'to', 'die', 'for', '.'], ['The', 'food', 'was', 'excellent', 'and', 'service', 'was', 'very', 'good', '.'], ['All', 'of', 'the', 'tapas', 'dishes', 'were', 'delicious', '!'], ['We', 'loved', 'the', 'biscuits', '!', '!', '!'], ['This', 'place', 'receives', 'stars', 'for', 'their', 'APPETIZERS', '!', '!', '!'], ['So', 'they', 'performed', '.'], ['The', 'refried', 'beans', 'that', 'came', 'with', 'my', 'meal', 'were', 'dried', 'out', 'and', 'crusty', 'and', 'the', 'food', 'was', 'bland', '.'], ['Good', 'prices', '.'], ['I', 'have', 'eaten', 'here', 'multiple', 'times', ',', 'and', 'each', 'time', 'the', 'food', 'was', 'delicious', '.'], ['The', 'service', 'was', 'poor', 'and', 'thats', 'being', 'nice', '.'], ['Service', 'was', 'very', 'prompt', '.'], ['dont', 'go', 'here', '.'], ['I', 'immediately', 'said', 'I', 'wanted', 'to', 'talk', 'to', 'the', 'manager', 'but', 'I', 'did', 'not', 'want', 'to', 'talk', 'to', 'the', 'guy', 'who', 'was', 'doing', 'shots', 'of', 'fireball', 'behind', 'the', 'bar', '.'], ['The', 'chips', 'and', 'salsa', 'were', 'really', 'good', ',', 'the', 'salsa', 'was', 'very', 'fresh', '.'], ['The', 'flair', 'bartenders', 'are', 'absolutely', 'amazing', '!'], ['I', 'started', 'this', 'review', 'with', 'two', 'stars', ',', 'but', 'I', \"'m\", 'editing', 'it', 'to', 'give', 'it', 'only', 'one', '.'], ['I', 'also', 'decided', 'not', 'to', 'send', 'it', 'back', 'because', 'our', 'waitress', 'looked', 'like', 'she', 'was', 'on', 'the', 'verge', 'of', 'having', 'a', 'heart', 'attack', '.'], ['I', 'would', \"n't\", 'return', '.'], ['The', 'fried', 'rice', 'was', 'dry', 'as', 'well', '.'], ['I', 'got', 'food', 'poisoning', 'here', 'at', 'the', 'buffet', '.'], ['First', '-', 'the', 'bathrooms', 'at', 'this', 'location', 'were', 'dirty-', 'Seat', 'covers', 'were', 'not', 'replenished', '&', 'just', 'plain', 'yucky', '!', '!', '!'], ['This', 'place', 'is', 'pretty', 'good', ',', 'nice', 'little', 'vibe', 'in', 'the', 'restaurant', '.'], ['Food', 'was', 'delicious', '!'], ['you', 'can', 'watch', 'them', 'preparing', 'the', 'delicious', 'food', '!', ')'], ['The', 'nachos', 'are', 'a', 'MUST', 'HAVE', '!'], ['Much', 'better', 'than', 'the', 'other', 'AYCE', 'sushi', 'place', 'I', 'went', 'to', 'in', 'Vegas', '.'], ['Poor', 'service', ',', 'the', 'waiter', 'made', 'me', 'feel', 'like', 'I', 'was', 'stupid', 'every', 'time', 'he', 'came', 'to', 'the', 'table', '.'], ['The', 'Han', 'Nan', 'Chicken', 'was', 'also', 'very', 'tasty', '.'], ['I', 'had', 'the', 'chicken', 'Pho', 'and', 'it', 'tasted', 'very', 'bland', '.'], ['I', 'go', 'to', 'far', 'too', 'many', 'places', 'and', 'I', \"'ve\", 'never', 'seen', 'any', 'restaurant', 'that', 'serves', 'a', '1', 'egg', 'breakfast', ',', 'especially', 'for', '$', '4.00', '.'], ['Sauce', 'was', 'tasteless', '.'], ['The', 'poor', 'batter', 'to', 'meat', 'ratio', 'made', 'the', 'chicken', 'tenders', 'very', 'unsatisfying', '.'], ['Needless', 'to', 'say', ',', 'we', 'will', 'never', 'be', 'back', 'here', 'again', '.'], ['But', 'the', 'service', 'was', 'beyond', 'bad', '.'], ['The', 'jalapeno', 'bacon', 'is', 'soooo', 'good', '.'], ['The', 'pancake', 'was', 'also', 'really', 'good', 'and', 'pretty', 'large', 'at', 'that', '.'], ['Service', 'is', 'perfect', 'and', 'the', 'family', 'atmosphere', 'is', 'nice', 'to', 'see', '.'], ['Pretty', 'awesome', 'place', '.'], ['Gave', 'up', 'trying', 'to', 'eat', 'any', 'of', 'the', 'crust', '(', 'teeth', 'still', 'sore', ')', '.'], ['This', 'place', 'is', 'hands-down', 'one', 'of', 'the', 'best', 'places', 'to', 'eat', 'in', 'the', 'Phoenix', 'metro', 'area', '.'], ['The', 'waitresses', 'are', 'very', 'friendly', '.'], ['Good', 'service', ',', 'very', 'clean', ',', 'and', 'inexpensive', ',', 'to', 'boot', '!'], ['The', 'inside', 'is', 'really', 'quite', 'nice', 'and', 'very', 'clean', '.'], ['Honeslty', 'it', 'did', \"n't\", 'taste', 'THAT', 'fresh', '.', ')'], ['I', 'had', 'strawberry', 'tea', ',', 'which', 'was', 'good', '.'], ['It', 'was', \"n't\", 'busy', 'at', 'all', 'and', 'now', 'we', 'know', 'why', '.'], ['I', 'just', 'do', \"n't\", 'know', 'how', 'this', 'place', 'managed', 'to', 'served', 'the', 'blandest', 'food', 'I', 'have', 'ever', 'eaten', 'when', 'they', 'are', 'preparing', 'Indian', 'cuisine', '.'], ['Service', 'stinks', 'here', '!'], ['The', 'best', 'place', 'to', 'go', 'for', 'a', 'tasty', 'bowl', 'of', 'Pho', '!'], ['After', 'one', 'bite', ',', 'I', 'was', 'hooked', '.'], ['Highly', 'recommended', '.'], ['Point', 'your', 'finger', 'at', 'any', 'item', 'on', 'the', 'menu', ',', 'order', 'it', 'and', 'you', 'wo', \"n't\", 'be', 'disappointed', '.'], ['The', 'vanilla', 'ice', 'cream', 'was', 'creamy', 'and', 'smooth', 'while', 'the', 'profiterole', '(', 'choux', ')', 'pastry', 'was', 'fresh', 'enough', '.'], ['I', \"'ll\", 'definitely', 'be', 'in', 'soon', 'again', '.'], ['Sadly', ',', 'Gordon', 'Ramsey', \"'s\", 'Steak', 'is', 'a', 'place', 'we', 'shall', 'sharply', 'avoid', 'during', 'our', 'next', 'trip', 'to', 'Vegas', '.'], ['I', 'could', 'eat', 'their', 'bruschetta', 'all', 'day', 'it', 'is', 'devine', '.'], ['Wow', 'very', 'spicy', 'but', 'delicious', '.'], ['Great', 'place', 'to', 'eat', ',', 'reminds', 'me', 'of', 'the', 'little', 'mom', 'and', 'pop', 'shops', 'in', 'the', 'San', 'Francisco', 'Bay', 'Area', '.'], ['The', 'descriptions', 'said', '``', 'yum', 'yum', 'sauce', \"''\", 'and', 'another', 'said', '``', 'eel', 'sauce', \"''\", ',', 'yet', 'another', 'said', '``', 'spicy', 'mayo', \"''\", '...', 'well', 'NONE', 'of', 'the', 'rolls', 'had', 'sauces', 'on', 'them', '.'], ['OMG', 'I', 'felt', 'like', 'I', 'had', 'never', 'eaten', 'Thai', 'food', 'until', 'this', 'dish', '.'], ['Every', 'time', 'I', 'eat', 'here', ',', 'I', 'see', 'caring', 'teamwork', 'to', 'a', 'professional', 'degree', '.'], ['How', 'awesome', 'is', 'that', '.'], ['Perhaps', 'I', 'caught', 'them', 'on', 'an', 'off', 'night', 'judging', 'by', 'the', 'other', 'reviews', ',', 'but', 'I', \"'m\", 'not', 'inspired', 'to', 'go', 'back', '.'], ['And', 'the', 'beans', 'and', 'rice', 'were', 'mediocre', 'at', 'best', '.'], ['The', 'seafood', 'was', 'fresh', 'and', 'generous', 'in', 'portion', '.'], ['walked', 'in', 'and', 'the', 'place', 'smelled', 'like', 'an', 'old', 'grease', 'trap', 'and', 'only', '2', 'others', 'there', 'eating', '.'], ['I', 'consider', 'this', 'theft', '.'], ['Very', 'friendly', 'staff', '.'], ['The', 'burger', 'had', 'absolutely', 'no', 'flavor', '-', 'the', 'meat', 'itself', 'was', 'totally', 'bland', ',', 'the', 'burger', 'was', 'overcooked', 'and', 'there', 'was', 'no', 'charcoal', 'flavor', '.'], ['After', 'two', 'I', 'felt', 'disgusting', '.'], ['I', 'ca', \"n't\", 'wait', 'to', 'go', 'back', '.'], ['This', 'place', 'is', 'disgusting', '!'], ['I', \"'ve\", 'lived', 'here', 'since', '1979', 'and', 'this', 'was', 'the', 'first', '(', 'and', 'last', ')', 'time', 'I', \"'ve\", 'stepped', 'foot', 'into', 'this', 'place', '.'], ['My', 'sashimi', 'was', 'poor', 'quality', 'being', 'soggy', 'and', 'tasteless', '.'], ['Reasonably', 'priced', 'also', '!'], ['Hard', 'to', 'judge', 'whether', 'these', 'sides', 'were', 'good', 'because', 'we', 'were', 'grossed', 'out', 'by', 'the', 'melted', 'styrofoam', 'and', 'did', \"n't\", 'want', 'to', 'eat', 'it', 'for', 'fear', 'of', 'getting', 'sick', '.'], ['I', 'just', 'wanted', 'to', 'leave', '.'], ['What', 'a', 'great', 'double', 'cheeseburger', '!'], ['What', 'I', 'really', 'like', 'there', 'is', 'the', 'crepe', 'station', '.'], ['To', 'my', 'disbelief', ',', 'each', 'dish', 'qualified', 'as', 'the', 'worst', 'version', 'of', 'these', 'foods', 'I', 'have', 'ever', 'tasted', '.'], ['However', ',', 'my', 'recent', 'experience', 'at', 'this', 'particular', 'location', 'was', 'not', 'so', 'good', '.'], ['Not', 'a', 'weekly', 'haunt', ',', 'but', 'definitely', 'a', 'place', 'to', 'come', 'back', 'to', 'every', 'once', 'in', 'a', 'while', '.'], ['say', 'bye', 'bye', 'to', 'your', 'tip', 'lady', '!'], ['I', 'ordered', 'the', 'Lemon', 'raspberry', 'ice', 'cocktail', 'which', 'was', 'also', 'incredible', '.'], ['Stopped', 'by', 'this', 'place', 'while', 'in', 'Madison', 'for', 'the', 'Ironman', ',', 'very', 'friendly', ',', 'kind', 'staff', '.'], ['Great', 'place', 'fo', 'take', 'out', 'or', 'eat', 'in', '.'], ['The', 'staff', 'is', 'super', 'nice', 'and', 'very', 'quick', 'even', 'with', 'the', 'crazy', 'crowds', 'of', 'the', 'downtown', 'juries', ',', 'lawyers', ',', 'and', 'court', 'staff', '.'], ['At', 'least', 'think', 'to', 'refill', 'my', 'water', 'before', 'I', 'struggle', 'to', 'wave', 'you', 'over', 'for', '10', 'minutes', '.'], ['I', 'will', 'not', 'return', '.'], ['These', 'are', 'the', 'nicest', 'restaurant', 'owners', 'I', \"'ve\", 'ever', 'come', 'across', '.'], ['There', 'is', 'nothing', 'authentic', 'about', 'this', 'place', '.'], ['Their', 'chow', 'mein', 'is', 'so', 'good', '!'], ['Service', 'was', 'slow', 'and', 'not', 'attentive', '.'], ['The', 'cow', 'tongue', 'and', 'cheek', 'tacos', 'are', 'amazing', '.'], ['We', 'were', 'sat', 'right', 'on', 'time', 'and', 'our', 'server', 'from', 'the', 'get', 'go', 'was', 'FANTASTIC', '!'], ['Def', 'coming', 'back', 'to', 'bowl', 'next', 'time'], ['Both', 'of', 'them', 'were', 'truly', 'unbelievably', 'good', ',', 'and', 'I', 'am', 'so', 'glad', 'we', 'went', 'back', '.'], ['An', 'extensive', 'menu', 'provides', 'lots', 'of', 'options', 'for', 'breakfast', '.'], ['the', 'staff', 'is', 'friendly', 'and', 'the', 'joint', 'is', 'always', 'clean', '.'], ['It', 'really', 'is', 'impressive', 'that', 'the', 'place', 'has', \"n't\", 'closed', 'down', '.'], ['So', 'flavorful', 'and', 'has', 'just', 'the', 'perfect', 'amount', 'of', 'heat', '.'], ['I', 'probably', 'wo', \"n't\", 'be', 'coming', 'back', 'here', '.'], ['There', 'is', 'so', 'much', 'good', 'food', 'in', 'Vegas', 'that', 'I', 'feel', 'cheated', 'for', 'wasting', 'an', 'eating', 'opportunity', 'by', 'going', 'to', 'Rice', 'and', 'Company', '.'], ['I', 'have', 'been', 'here', 'several', 'times', 'in', 'the', 'past', ',', 'and', 'the', 'experience', 'has', 'always', 'been', 'great', '.'], ['No', 'one', 'at', 'the', 'table', 'thought', 'the', 'food', 'was', 'above', 'average', 'or', 'worth', 'the', 'wait', 'that', 'we', 'had', 'for', 'it', '.'], ['My', 'breakfast', 'was', 'perpared', 'great', ',', 'with', 'a', 'beautiful', 'presentation', 'of', '3', 'giant', 'slices', 'of', 'Toast', ',', 'lightly', 'dusted', 'with', 'powdered', 'sugar', '.'], ['Overall', ',', 'a', 'great', 'experience', '.'], ['Anyway', ',', 'this', 'FS', 'restaurant', 'has', 'a', 'wonderful', 'breakfast/lunch', '.'], ['Never', 'been', 'to', 'Hard', 'Rock', 'Casino', 'before', ',', 'WILL', 'NEVER', 'EVER', 'STEP', 'FORWARD', 'IN', 'IT', 'AGAIN', '!'], ['Special', 'thanks', 'to', 'Dylan', 'T.', 'for', 'the', 'recommendation', 'on', 'what', 'to', 'order', ':', ')', 'All', 'yummy', 'for', 'my', 'tummy', '.'], ['We', 'ordered', 'some', 'old', 'classics', 'and', 'some', 'new', 'dishes', 'after', 'going', 'there', 'a', 'few', 'times', 'and', 'were', 'sorely', 'disappointed', 'with', 'everything', '.'], ['If', 'it', 'were', 'possible', 'to', 'give', 'them', 'zero', 'stars', ',', 'they', \"'d\", 'have', 'it', '.'], ['My', 'husband', 'and', 'I', 'ate', 'lunch', 'here', 'and', 'were', 'very', 'disappointed', 'with', 'the', 'food', 'and', 'service', '.'], ['Ambience', 'is', 'perfect', '.'], ['Cooked', 'to', 'perfection', 'and', 'the', 'service', 'was', 'impeccable', '.'], ['DELICIOUS', '!', '!'], ['Kind', 'of', 'hard', 'to', 'mess', 'up', 'a', 'steak', 'but', 'they', 'did', '.'], ['Disappointing', 'experience', '.'], ['We', 'could', 'not', 'believe', 'how', 'dirty', 'the', 'oysters', 'were', '!'], ['The', 'patio', 'seating', 'was', 'very', 'comfortable', '.'], ['If', 'you', 'look', 'for', 'authentic', 'Thai', 'food', ',', 'go', 'else', 'where', '.'], ['Probably', 'not', 'in', 'a', 'hurry', 'to', 'go', 'back', '.'], ['Crust', 'is', 'not', 'good', '.'], ['Maybe', 'if', 'they', 'were', \"n't\", 'cold', 'they', 'would', 'have', 'been', 'somewhat', 'edible', '.'], ['I', 'left', 'with', 'a', 'stomach', 'ache', 'and', 'felt', 'sick', 'the', 'rest', 'of', 'the', 'day', '.'], ['I', \"'d\", 'love', 'to', 'go', 'back', '.'], ['Tasted', 'like', 'dirt', '.'], ['It', 'was', 'not', 'good', '.'], ['The', 'worst', 'was', 'the', 'salmon', 'sashimi', '.'], ['Will', 'not', 'be', 'back', '.'], ['Nothing', 'special', '.'], ['This', 'is', 'a', 'disgrace', '.'], ['I', 'want', 'to', 'first', 'say', 'our', 'server', 'was', 'great', 'and', 'we', 'had', 'perfect', 'service', '.'], ['The', 'only', 'thing', 'I', 'did', 'like', 'was', 'the', 'prime', 'rib', 'and', 'dessert', 'section', '.'], ['Great', 'pork', 'sandwich', '.'], ['That', 'just', 'SCREAMS', '``', 'LEGIT', \"''\", 'in', 'my', 'book', '...', 'somethat', \"'s\", 'also', 'pretty', 'rare', 'here', 'in', 'Vegas', '.'], ['The', 'Wife', 'hated', 'her', 'meal', '(', 'coconut', 'shrimp', ')', ',', 'and', 'our', 'friends', 'really', 'did', 'not', 'enjoy', 'their', 'meals', ',', 'either', '.'], ['This', 'place', 'has', 'a', 'lot', 'of', 'promise', 'but', 'fails', 'to', 'deliver', '.'], ['Furthermore', ',', 'you', 'ca', \"n't\", 'even', 'find', 'hours', 'of', 'operation', 'on', 'the', 'website', '!'], ['I', \"'m\", 'so', 'happy', 'to', 'be', 'here', '!', '!', '!', \"''\"], ['Talk', 'about', 'great', 'customer', 'service', 'of', 'course', 'we', 'will', 'be', 'back', '.'], ['Definitely', 'a', 'turn', 'off', 'for', 'me', '&', 'i', 'doubt', 'I', \"'ll\", 'be', 'back', 'unless', 'someone', 'else', 'is', 'buying', '.'], ['(', 'The', 'bathroom', 'is', 'just', 'next', 'door', 'and', 'very', 'nice', '.', ')'], ['A', 'lady', 'at', 'the', 'table', 'next', 'to', 'us', 'found', 'a', 'live', 'green', 'caterpillar', 'In', 'her', 'salad', '.'], ['The', 'desserts', 'were', 'a', 'bit', 'strange', '.'], ['Pricing', 'is', 'a', 'bit', 'of', 'a', 'concern', 'at', 'Mellow', 'Mushroom', '.'], ['Once', 'your', 'food', 'arrives', 'it', \"'s\", 'meh', '.'], ['My', 'fiancé', 'and', 'I', 'came', 'in', 'the', 'middle', 'of', 'the', 'day', 'and', 'we', 'were', 'greeted', 'and', 'seated', 'right', 'away', '.'], ['He', 'came', 'running', 'after', 'us', 'when', 'he', 'realized', 'my', 'husband', 'had', 'left', 'his', 'sunglasses', 'on', 'the', 'table', '.'], ['Waitress', 'was', 'a', 'little', 'slow', 'in', 'service', '.'], ['Hot', 'dishes', 'are', 'not', 'hot', ',', 'cold', 'dishes', 'are', 'close', 'to', 'room', 'temp.I', 'watched', 'staff', 'prepare', 'food', 'with', 'BARE', 'HANDS', ',', 'no', 'gloves.Everything', 'is', 'deep', 'fried', 'in', 'oil', '.'], ['My', 'ribeye', 'steak', 'was', 'cooked', 'perfectly', 'and', 'had', 'great', 'mesquite', 'flavor', '.'], ['Then', 'our', 'food', 'came', 'out', ',', 'disappointment', 'ensued', '.'], ['He', 'also', 'came', 'back', 'to', 'check', 'on', 'us', 'regularly', ',', 'excellent', 'service', '.'], ['My', 'gyro', 'was', 'basically', 'lettuce', 'only', '.'], ['Eew', '...', 'This', 'location', 'needs', 'a', 'complete', 'overhaul', '.'], ['Very', 'good', ',', 'though', '!'], ['I', \"'m\", 'probably', 'one', 'of', 'the', 'few', 'people', 'to', 'ever', 'go', 'to', 'Ians', 'and', 'not', 'like', 'it', '.'], ['Very', 'bad', 'Experience', '!'], ['It', 'lacked', 'flavor', ',', 'seemed', 'undercooked', ',', 'and', 'dry', '.'], ['We', 'recently', 'witnessed', 'her', 'poor', 'quality', 'of', 'management', 'towards', 'other', 'guests', 'as', 'well', '.'], ['The', 'meat', 'was', 'pretty', 'dry', ',', 'I', 'had', 'the', 'sliced', 'brisket', 'and', 'pulled', 'pork', '.'], ['I', 'ate', 'there', 'twice', 'on', 'my', 'last', 'visit', ',', 'and', 'especially', 'enjoyed', 'the', 'salmon', 'salad', '.'], ['They', 'could', 'serve', 'it', 'with', 'just', 'the', 'vinaigrette', 'and', 'it', 'may', 'make', 'for', 'a', 'better', 'overall', 'dish', ',', 'but', 'it', 'was', 'still', 'very', 'good', '.'], ['It', \"'s\", 'a', 'great', 'place', 'and', 'I', 'highly', 'recommend', 'it', '.'], ['This', 'place', 'is', 'like', 'Chipotle', ',', 'but', 'BETTER', '.'], ['Best', 'tacos', 'in', 'town', 'by', 'far', '!', '!'], ['Spend', 'your', 'money', 'elsewhere', '.'], ['If', 'you', 'love', 'authentic', 'Mexican', 'food', 'and', 'want', 'a', 'whole', 'bunch', 'of', 'interesting', ',', 'yet', 'delicious', 'meats', 'to', 'choose', 'from', ',', 'you', 'need', 'to', 'try', 'this', 'place', '.'], ['I', 'swung', 'in', 'to', 'give', 'them', 'a', 'try', 'but', 'was', 'deeply', 'disappointed', '.'], ['They', 'really', 'want', 'to', 'make', 'your', 'experience', 'a', 'good', 'one', '.'], ['Try', 'them', 'in', 'the', 'airport', 'to', 'experience', 'some', 'tasty', 'food', 'and', 'speedy', ',', 'friendly', 'service', '.'], ['Now', 'the', 'burgers', 'are', \"n't\", 'as', 'good', ',', 'the', 'pizza', 'which', 'used', 'to', 'be', 'amazing', 'is', 'doughy', 'and', 'flavorless', '.'], ['Loved', 'it', '...', 'friendly', 'servers', ',', 'great', 'food', ',', 'wonderful', 'and', 'imaginative', 'menu', '.'], ['The', 'service', 'here', 'leaves', 'a', 'lot', 'to', 'be', 'desired', '.'], ['The', 'grilled', 'chicken', 'was', 'so', 'tender', 'and', 'yellow', 'from', 'the', 'saffron', 'seasoning', '.'], ['Check', 'it', 'out', '.'], ['We', \"'ve\", 'have', 'gotten', 'a', 'much', 'better', 'service', 'from', 'the', 'pizza', 'place', 'next', 'door', 'than', 'the', 'services', 'we', 'received', 'from', 'this', 'restaurant', '.'], ['Wow', '...', 'Loved', 'this', 'place', '.'], ['I', 'ordered', 'Albondigas', 'soup', '-', 'which', 'was', 'just', 'warm', '-', 'and', 'tasted', 'like', 'tomato', 'soup', 'with', 'frozen', 'meatballs', '.'], ['Great', 'steak', ',', 'great', 'sides', ',', 'great', 'wine', ',', 'amazing', 'desserts', '.'], ['Everyone', 'is', 'treated', 'equally', 'special', '.'], ['Just', 'spicy', 'enough..', 'Perfect', 'actually', '.'], ['Ample', 'portions', 'and', 'good', 'prices', '.'], ['Maybe', 'it', \"'s\", 'just', 'their', 'Vegetarian', 'fare', ',', 'but', 'I', \"'ve\", 'been', 'twice', 'and', 'I', 'thought', 'it', 'was', 'average', 'at', 'best', '.'], ['Took', 'an', 'hour', 'to', 'get', 'our', 'food', 'only', '4', 'tables', 'in', 'restaurant', 'my', 'food', 'was', 'Luke', 'warm', ',', 'Our', 'sever', 'was', 'running', 'around', 'like', 'he', 'was', 'totally', 'overwhelmed', '.'], ['The', 'service', 'was', 'outshining', '&', 'I', 'definitely', 'recommend', 'the', 'Halibut', '.'], ['Go', 'To', 'Place', 'for', 'Gyros', '.'], ['This', 'place', 'is', 'amazing', '!'], ['I', \"'ve\", 'never', 'been', 'treated', 'so', 'bad', '.'], ['When', 'my', 'order', 'arrived', ',', 'one', 'of', 'the', 'gyros', 'was', 'missing', '.'], ['this', 'was', 'a', 'different', 'cut', 'than', 'the', 'piece', 'the', 'other', 'day', 'but', 'still', 'wonderful', 'and', 'tender', 's', 'well', 'as', 'well', 'flavored', '.'], ['The', 'servers', 'went', 'back', 'and', 'forth', 'several', 'times', ',', 'not', 'even', 'so', 'much', 'as', 'an', '``', 'Are', 'you', 'being', 'helped', '?', \"''\"], ['I', 'was', 'VERY', 'disappointed', '!', '!'], ['The', 'management', 'is', 'rude', '.'], ['And', 'the', 'drinks', 'are', 'WEAK', ',', 'people', '!'], ['We', 'had', 'a', 'group', 'of', '70+', 'when', 'we', 'claimed', 'we', 'would', 'only', 'have', '40', 'and', 'they', 'handled', 'us', 'beautifully', '.'], ['An', 'excellent', 'new', 'restaurant', 'by', 'an', 'experienced', 'Frenchman', '.'], ['Ryan', \"'s\", 'Bar', 'is', 'definitely', 'one', 'Edinburgh', 'establishment', 'I', 'wo', \"n't\", 'be', 'revisiting', '.'], ['We', 'are', \"n't\", 'ones', 'to', 'make', 'a', 'scene', 'at', 'restaurants', 'but', 'I', 'just', 'do', \"n't\", 'get', 'it', '...', 'definitely', 'lost', 'the', 'love', 'after', 'this', 'one', '!'], ['I', 'was', 'proven', 'dead', 'wrong', 'by', 'this', 'sushi', 'bar', ',', 'not', 'only', 'because', 'the', 'quality', 'is', 'great', ',', 'but', 'the', 'service', 'is', 'fast', 'and', 'the', 'food', ',', 'impeccable', '.'], ['The', 'bus', 'boy', 'on', 'the', 'other', 'hand', 'was', 'so', 'rude', '.'], ['My', 'husband', 'said', 'she', 'was', 'very', 'rude', '...', 'did', 'not', 'even', 'apologize', 'for', 'the', 'bad', 'food', 'or', 'anything', '.'], ['She', 'ordered', 'a', 'toasted', 'English', 'muffin', 'that', 'came', 'out', 'untoasted', '.'], ['I', 'was', 'so', 'insulted', '.'], ['Never', 'going', 'back', '.'], ['We', 'are', 'so', 'glad', 'we', 'found', 'this', 'place', '.'], ['For', 'that', 'price', 'I', 'can', 'think', 'of', 'a', 'few', 'place', 'I', 'would', 'have', 'much', 'rather', 'gone', '.'], ['I', 'was', \"n't\", 'really', 'impressed', 'with', 'Strip', 'Steak', '.'], ['Nice', ',', 'spicy', 'and', 'tender', '.'], ['I', 'give', 'it', '2', 'thumbs', 'down'], ['Not', 'much', 'seafood', 'and', 'like', '5', 'strings', 'of', 'pasta', 'at', 'the', 'bottom', '.'], ['Their', 'daily', 'specials', 'are', 'always', 'a', 'hit', 'with', 'my', 'group', '.'], ['OMG', ',', 'the', 'food', 'was', 'delicioso', '!'], ['This', 'wonderful', 'experience', 'made', 'this', 'place', 'a', 'must-stop', 'whenever', 'we', 'are', 'in', 'town', 'again', '.'], ['Anyway', ',', 'I', 'do', 'not', 'think', 'i', 'will', 'go', 'back', 'there', '.'], ['I', 'would', 'avoid', 'this', 'place', 'if', 'you', 'are', 'staying', 'in', 'the', 'Mirage', '.'], ['Join', 'the', 'club', 'and', 'get', 'awesome', 'offers', 'via', 'email', '.'], ['I', 'can', 'assure', 'you', 'that', 'you', 'wo', \"n't\", 'be', 'disappointed', '.'], ['I', 'seriously', 'can', 'not', 'believe', 'that', 'the', 'owner', 'has', 'so', 'many', 'unexperienced', 'employees', 'that', 'all', 'are', 'running', 'around', 'like', 'chickens', 'with', 'their', 'heads', 'cut', 'off', '.'], ['I', 'had', 'high', 'hopes', 'for', 'this', 'place', 'since', 'the', 'burgers', 'are', 'cooked', 'over', 'a', 'charcoal', 'grill', ',', 'but', 'unfortunately', 'the', 'taste', 'fell', 'flat', ',', 'way', 'flat', '.'], ['The', 'selection', 'on', 'the', 'menu', 'was', 'great', 'and', 'so', 'were', 'the', 'prices', '.'], ['Hands', 'down', 'my', 'favorite', 'Italian', 'restaurant', '!'], ['I', 'recently', 'tried', 'Caballero', \"'s\", 'and', 'I', 'have', 'been', 'back', 'every', 'week', 'since', '!'], ['When', 'I', \"'m\", 'on', 'this', 'side', 'of', 'town', ',', 'this', 'will', 'definitely', 'be', 'a', 'spot', 'I', \"'ll\", 'hit', 'up', 'again', '!'], ['Also', 'there', 'are', 'combos', 'like', 'a', 'burger', ',', 'fries', ',', 'and', 'beer', 'for', '23', 'which', 'is', 'a', 'decent', 'deal', '.'], ['Unfortunately', ',', 'we', 'must', 'have', 'hit', 'the', 'bakery', 'on', 'leftover', 'day', 'because', 'everything', 'we', 'ordered', 'was', 'STALE', '.'], ['This', 'is', 'was', 'due', 'to', 'the', 'fact', 'that', 'it', 'took', '20', 'minutes', 'to', 'be', 'acknowledged', ',', 'then', 'another', '35', 'minutes', 'to', 'get', 'our', 'food', '...', 'and', 'they', 'kept', 'forgetting', 'things', '.'], ['The', 'ambiance', 'here', 'did', 'not', 'feel', 'like', 'a', 'buffet', 'setting', ',', 'but', 'more', 'of', 'a', 'douchey', 'indoor', 'garden', 'for', 'tea', 'and', 'biscuits', '.'], ['Terrible', 'management', '.'], ['That', \"'s\", 'right', '...', '.the', 'red', 'velvet', 'cake', '...', '..ohhh', 'this', 'stuff', 'is', 'so', 'good', '.'], ['This', 'is', 'an', 'unbelievable', 'BARGAIN', '!'], ['They', 'had', 'a', 'toro', 'tartare', 'with', 'a', 'cavier', 'that', 'was', 'extraordinary', 'and', 'I', 'liked', 'the', 'thinly', 'sliced', 'wagyu', 'with', 'white', 'truffle', '.'], ['The', 'only', 'downside', 'is', 'the', 'service', '.'], ['All', 'the', 'bread', 'is', 'made', 'in-house', '!'], ['I', 'do', \"n't\", 'know', 'what', 'kind', 'it', 'is', 'but', 'they', 'have', 'the', 'best', 'iced', 'tea', '.'], ['Their', 'menu', 'is', 'diverse', ',', 'and', 'reasonably', 'priced', '.'], ['I', 'gave', 'it', '5', 'stars', 'then', ',', 'and', 'I', \"'m\", 'giving', 'it', '5', 'stars', 'now', '.'], ['Appetite', 'instantly', 'gone', '.'], ['If', 'you', 'want', 'healthy', 'authentic', 'or', 'ethic', 'food', ',', 'try', 'this', 'place', '.'], ['I', 'find', 'wasting', 'food', 'to', 'be', 'despicable', ',', 'but', 'this', 'just', 'was', \"n't\", 'food', '.'], ['We', 'literally', 'sat', 'there', 'for', '20', 'minutes', 'with', 'no', 'one', 'asking', 'to', 'take', 'our', 'order', '.'], ['I', \"'m\", 'not', 'sure', 'how', 'long', 'we', 'stood', 'there', 'but', 'it', 'was', 'long', 'enough', 'for', 'me', 'to', 'begin', 'to', 'feel', 'awkwardly', 'out', 'of', 'place', '.'], ['I', 'loved', 'the', 'grilled', 'pizza', ',', 'reminded', 'me', 'of', 'legit', 'Italian', 'pizza', '.'], ['Best', 'tater', 'tots', 'in', 'the', 'southwest', '.'], ['The', 'only', 'good', 'thing', 'was', 'our', 'waiter', ',', 'he', 'was', 'very', 'helpful', 'and', 'kept', 'the', 'bloddy', 'mary', \"'s\", 'coming', '.'], ['And', 'considering', 'the', 'two', 'of', 'us', 'left', 'there', 'very', 'full', 'and', 'happy', 'for', 'about', '$', '20', ',', 'you', 'just', 'ca', \"n't\", 'go', 'wrong', '.'], ['Good', 'Service-check', '!'], ['To', 'summarize', '...', 'the', 'food', 'was', 'incredible', ',', 'nay', ',', 'transcendant', '...', 'but', 'nothing', 'brings', 'me', 'joy', 'quite', 'like', 'the', 'memory', 'of', 'the', 'pneumatic', 'condiment', 'dispenser', '.'], ['Kids', 'pizza', 'is', 'always', 'a', 'hit', 'too', 'with', 'lots', 'of', 'great', 'side', 'dish', 'options', 'for', 'the', 'kiddos', '!'], ['I', 'really', 'enjoyed', 'eating', 'here', '.'], ['Service', 'is', 'also', 'cute', '.'], ['This', 'one', 'is', 'simply', 'a', 'disappointment', '.'], ['The', 'croutons', 'also', 'taste', 'homemade', 'which', 'is', 'an', 'extra', 'plus', '.'], ['The', 'shower', 'area', 'is', 'outside', 'so', 'you', 'can', 'only', 'rinse', ',', 'not', 'take', 'a', 'full', 'shower', ',', 'unless', 'you', 'do', \"n't\", 'mind', 'being', 'nude', 'for', 'everyone', 'to', 'see', '!'], ['Waitress', 'was', 'good', 'though', '!'], ['Love', 'this', 'place', ',', 'hits', 'the', 'spot', 'when', 'I', 'want', 'something', 'healthy', 'but', 'not', 'lacking', 'in', 'quantity', 'or', 'flavor', '.'], ['What', 'did', 'bother', 'me', ',', 'was', 'the', 'slow', 'service', '.'], ['It', \"'s\", 'NOT', 'hard', 'to', 'make', 'a', 'decent', 'hamburger', '.'], ['Now', 'the', 'pizza', 'itself', 'was', 'good', 'the', 'peanut', 'sauce', 'was', 'very', 'tasty', '.'], ['The', 'whole', 'experience', 'was', 'underwhelming', ',', 'and', 'I', 'think', 'we', \"'ll\", 'just', 'go', 'to', 'Ninja', 'Sushi', 'next', 'time', '.'], ['I', 'have', 'watched', 'their', 'prices', 'inflate', ',', 'portions', 'get', 'smaller', 'and', 'management', 'attitudes', 'grow', 'rapidly', '!'], ['Favorite', 'place', 'in', 'town', 'for', 'shawarrrrrrma', '!', '!', '!', '!', '!', '!'], ['This', 'place', 'is', 'great', '!', '!', '!', '!', '!', '!', '!', '!', '!', '!', '!', '!', '!', '!'], ['I', \"'ll\", 'take', 'my', 'business', 'dinner', 'dollars', 'elsewhere', '.'], ['Google', 'mediocre', 'and', 'I', 'imagine', 'Smashburger', 'will', 'pop', 'up', '.'], ['Overall', 'I', 'was', \"n't\", 'very', 'impressed', 'with', 'Noca', '.'], ['The', 'place', 'was', 'not', 'clean', 'and', 'the', 'food', 'oh', 'so', 'stale', '!'], ['He', 'was', 'terrible', '!'], ['Delicious', 'NYC', 'bagels', ',', 'good', 'selections', 'of', 'cream', 'cheese', ',', 'real', 'Lox', 'with', 'capers', 'even', '.'], ['Our', 'server', 'was', 'very', 'nice', 'and', 'attentive', 'as', 'were', 'the', 'other', 'serving', 'staff', '.'], ['On', 'the', 'good', 'side', ',', 'the', 'staff', 'was', 'genuinely', 'pleasant', 'and', 'enthusiastic', '-', 'a', 'real', 'treat', '.'], ['We', 'ordered', 'the', 'duck', 'rare', 'and', 'it', 'was', 'pink', 'and', 'tender', 'on', 'the', 'inside', 'with', 'a', 'nice', 'char', 'on', 'the', 'outside', '.'], ['The', 'staff', 'are', 'great', ',', 'the', 'ambiance', 'is', 'great', '.'], ['Four', 'stars', 'for', 'the', 'food', '&', 'the', 'guy', 'in', 'the', 'blue', 'shirt', 'for', 'his', 'great', 'vibe', '&', 'still', 'letting', 'us', 'in', 'to', 'eat', '!'], ['This', 'was', 'like', 'the', 'final', 'blow', '!'], ['They', 'also', 'have', 'the', 'best', 'cheese', 'crisp', 'in', 'town', '.'], ['This', 'is', \"n't\", 'a', 'small', 'family', 'restaurant', ',', 'this', 'is', 'a', 'fine', 'dining', 'establishment', '.'], ['The', 'service', 'was', 'extremely', 'slow', '.'], ['The', 'chefs', 'were', 'friendly', 'and', 'did', 'a', 'good', 'job', '.'], ['It', \"'s\", 'like', 'a', 'really', 'sexy', 'party', 'in', 'your', 'mouth', ',', 'where', 'you', \"'re\", 'outrageously', 'flirting', 'with', 'the', 'hottest', 'person', 'at', 'the', 'party', '.'], ['WILL', 'NEVER', 'EVER', 'GO', 'BACK', 'AND', 'HAVE', 'TOLD', 'MANY', 'PEOPLE', 'WHAT', 'HAD', 'HAPPENED', '.'], ['This', 'hole', 'in', 'the', 'wall', 'has', 'great', 'Mexican', 'street', 'tacos', ',', 'and', 'friendly', 'staff', '.'], ['Great', 'Pizza', 'and', 'Salads', '!'], ['I', 'went', 'to', 'Bachi', 'Burger', 'on', 'a', 'friend', \"'s\", 'recommendation', 'and', 'was', 'not', 'disappointed', '.'], ['Service', 'was', 'fantastic', '.'], ['Not', 'good', 'by', 'any', 'stretch', 'of', 'the', 'imagination', '.'], ['At', 'least', '40min', 'passed', 'in', 'between', 'us', 'ordering', 'and', 'the', 'food', 'arriving', ',', 'and', 'it', 'was', \"n't\", 'that', 'busy', '.'], ['Horrible', '-', 'do', \"n't\", 'waste', 'your', 'time', 'and', 'money', '.'], ['If', 'the', 'food', 'is', \"n't\", 'bad', 'enough', 'for', 'you', ',', 'then', 'enjoy', 'dealing', 'with', 'the', 'world', \"'s\", 'worst/annoying', 'drunk', 'people', '.'], ['It', 'should', \"n't\", 'take', '30', 'min', 'for', 'pancakes', 'and', 'eggs', '.'], ['Total', 'letdown', ',', 'I', 'would', 'much', 'rather', 'just', 'go', 'to', 'the', 'Camelback', 'Flower', 'Shop', 'and', 'Cartel', 'Coffee', '.'], ['The', 'food', 'came', 'out', 'at', 'a', 'good', 'pace', '.'], ['The', 'pizza', 'tasted', 'old', ',', 'super', 'chewy', 'in', 'not', 'a', 'good', 'way', '.'], ['By', 'this', 'time', 'our', 'side', 'of', 'the', 'restaurant', 'was', 'almost', 'empty', 'so', 'there', 'was', 'no', 'excuse', '.'], ['the', 'spaghetti', 'is', 'nothing', 'special', 'whatsoever', '.'], ['The', 'food', 'was', 'terrible', '.'], ['I', 'love', 'the', 'Pho', 'and', 'the', 'spring', 'rolls', 'oh', 'so', 'yummy', 'you', 'have', 'to', 'try', '.'], ['Friend', \"'s\", 'pasta', '--', 'also', 'bad', ',', 'he', 'barely', 'touched', 'it', '.'], ['As', 'always', 'the', 'evening', 'was', 'wonderful', 'and', 'the', 'food', 'delicious', '!'], ['Wo', \"n't\", 'ever', 'go', 'here', 'again', '.'], ['We', 'wo', \"n't\", 'be', 'going', 'back', '.'], ['It', 'was', 'probably', 'dirt', '.'], ['My', 'boyfriend', 'tried', 'the', 'Mediterranean', 'Chicken', 'Salad', 'and', 'fell', 'in', 'love', '.'], ['Very', 'very', 'fun', 'chef', '.'], ['You', 'ca', \"n't\", 'beat', 'that', '.'], ['The', 'staff', 'is', 'always', 'super', 'friendly', 'and', 'helpful', ',', 'which', 'is', 'especially', 'cool', 'when', 'you', 'bring', 'two', 'small', 'boys', 'and', 'a', 'baby', '!'], ['I', 'guess', 'I', 'should', 'have', 'known', 'that', 'this', 'place', 'would', 'suck', ',', 'because', 'it', 'is', 'inside', 'of', 'the', 'Excalibur', ',', 'but', 'I', 'did', \"n't\", 'use', 'my', 'common', 'sense', '.'], ['Server', 'did', 'a', 'great', 'job', 'handling', 'our', 'large', 'rowdy', 'table', '.'], ['On', 'three', 'different', 'occasions', 'I', 'asked', 'for', 'well', 'done', 'or', 'medium', 'well', ',', 'and', 'all', 'three', 'times', 'I', 'got', 'the', 'bloodiest', 'piece', 'of', 'meat', 'on', 'my', 'plate', '.'], ['Love', 'the', 'margaritas', ',', 'too', '!'], ['My', 'salad', 'had', 'a', 'bland', 'vinegrette', 'on', 'the', 'baby', 'greens', 'and', 'hearts', 'of', 'Palm', '.'], ['-Drinks', 'took', 'close', 'to', '30', 'minutes', 'to', 'come', 'out', 'at', 'one', 'point', '.'], ['After', 'all', 'the', 'rave', 'reviews', 'I', 'could', \"n't\", 'wait', 'to', 'eat', 'here', '...', '...', 'what', 'a', 'disappointment', '!'], ['We', 'got', 'sitting', 'fairly', 'fast', ',', 'but', ',', 'ended', 'up', 'waiting', '40', 'minutes', 'just', 'to', 'place', 'our', 'order', ',', 'another', '30', 'minutes', 'before', 'the', 'food', 'arrived', '.'], ['If', 'you', 'stay', 'in', 'Vegas', 'you', 'must', 'get', 'breakfast', 'here', 'at', 'least', 'once', '.'], ['The', 'scallop', 'dish', 'is', 'quite', 'appalling', 'for', 'value', 'as', 'well', '.'], ['It', \"'s\", 'too', 'bad', 'the', 'food', 'is', 'so', 'damn', 'generic', '.'], ['Always', 'a', 'great', 'time', 'at', 'Dos', 'Gringos', '!'], ['I', 'found', 'this', 'place', 'by', 'accident', 'and', 'I', 'could', 'not', 'be', 'happier', '.'], ['Will', 'never', ',', 'ever', 'go', 'back', '.'], ['Im', 'in', 'AZ', 'all', 'the', 'time', 'and', 'now', 'have', 'my', 'new', 'spot', '.'], ['The', 'food', 'is', 'good', '.'], ['Come', 'hungry', ',', 'leave', 'happy', 'and', 'stuffed', '!'], ['The', 'chipolte', 'ranch', 'dipping', 'sause', 'was', 'tasteless', ',', 'seemed', 'thin', 'and', 'watered', 'down', 'with', 'no', 'heat', '.'], ['Sooooo', 'good', '!', '!'], ['I', 'do', \"n't\", 'think', 'we', \"'ll\", 'be', 'going', 'back', 'anytime', 'soon', '.'], ['All', 'I', 'have', 'to', 'say', 'is', 'the', 'food', 'was', 'amazing', '!', '!', '!'], ['Extremely', 'Tasty', '!'], ['Worse', 'of', 'all', ',', 'he', 'humiliated', 'his', 'worker', 'right', 'in', 'front', 'of', 'me..Bunch', 'of', 'horrible', 'name', 'callings', '.'], ['Service', 'was', 'fine', 'and', 'the', 'waitress', 'was', 'friendly', '.'], ['Best', 'Buffet', 'in', 'town', ',', 'for', 'the', 'price', 'you', 'can', 'not', 'beat', 'it', '.'], ['I', 'have', 'been', 'to', 'very', 'few', 'places', 'to', 'eat', 'that', 'under', 'no', 'circumstances', 'would', 'I', 'ever', 'return', 'to', ',', 'and', 'this', 'tops', 'the', 'list', '.'], ['Owner', \"'s\", 'are', 'really', 'great', 'people', '.', '!'], ['I', 'always', 'order', 'from', 'the', 'vegetarian', 'menu', 'during', 'dinner', ',', 'which', 'has', 'a', 'wide', 'array', 'of', 'options', 'to', 'choose', 'from', '.'], ['They', 'will', 'customize', 'your', 'order', 'any', 'way', 'you', \"'d\", 'like', ',', 'my', 'usual', 'is', 'Eggplant', 'with', 'Green', 'Bean', 'stir', 'fry', ',', 'love', 'it', '!'], ['I', 'liked', 'the', 'patio', 'and', 'the', 'service', 'was', 'outstanding', '.'], ['The', 'warm', 'beer', 'did', \"n't\", 'help', '.'], ['An', 'absolute', 'must', 'visit', '!'], ['The', 'atmosphere', 'was', 'great', 'with', 'a', 'lovely', 'duo', 'of', 'violinists', 'playing', 'songs', 'we', 'requested', '.'], ['I', 'love', 'the', 'decor', 'with', 'the', 'Chinese', 'calligraphy', 'wall', 'paper', '.'], ['-My', 'order', 'was', 'not', 'correct', '.'], ['Delicious', 'and', 'I', 'will', 'absolutely', 'be', 'back', '!'], ['All', 'in', 'all', 'an', 'excellent', 'restaurant', 'highlighted', 'by', 'great', 'service', ',', 'a', 'unique', 'menu', ',', 'and', 'a', 'beautiful', 'setting', '.'], ['I', 'was', 'mortified', '.'], ['Give', 'it', 'a', 'try', ',', 'you', 'will', 'be', 'happy', 'you', 'did', '.'], ['Restaurant', 'is', 'always', 'full', 'but', 'never', 'a', 'wait', '.'], ['What', 'happened', 'next', 'was', 'pretty', '...', '.off', 'putting', '.'], ['The', 'one', 'down', 'note', 'is', 'the', 'ventilation', 'could', 'use', 'some', 'upgrading', '.'], ['Terrible', 'service', '!'], ['I', 'was', 'shocked', 'because', 'no', 'signs', 'indicate', 'cash', 'only', '.'], ['I', 'can', 'say', 'that', 'the', 'desserts', 'were', 'yummy', '.'], ['I', 'also', 'had', 'to', 'taste', 'my', 'Mom', \"'s\", 'multi-grain', 'pumpkin', 'pancakes', 'with', 'pecan', 'butter', 'and', 'they', 'were', 'amazing', ',', 'fluffy', ',', 'and', 'delicious', '!'], ['A', 'FLY', 'was', 'in', 'my', 'apple', 'juice..', 'A', 'FLY', '!', '!', '!', '!', '!', '!', '!', '!'], ['The', 'sergeant', 'pepper', 'beef', 'sandwich', 'with', 'auju', 'sauce', 'is', 'an', 'excellent', 'sandwich', 'as', 'well', '.'], ['It', 'was', 'way', 'over', 'fried', '.'], ['We', \"'d\", 'definitely', 'go', 'back', 'here', 'again', '.'], ['It', 'was', 'a', 'pale', 'color', 'instead', 'of', 'nice', 'and', 'char', 'and', 'has', 'NO', 'flavor', '.'], ['For', 'about', '10', 'minutes', ',', 'we', 'we', \"'re\", 'waiting', 'for', 'her', 'salad', 'when', 'we', 'realized', 'that', 'it', 'was', \"n't\", 'coming', 'any', 'time', 'soon', '.'], ['Went', 'for', 'lunch', '-', 'service', 'was', 'slow', '.'], ['Today', 'is', 'the', 'second', 'time', 'I', \"'ve\", 'been', 'to', 'their', 'lunch', 'buffet', 'and', 'it', 'was', 'pretty', 'good', '.'], ['REAL', 'sushi', 'lovers', ',', 'let', \"'s\", 'be', 'honest', '-', 'Yama', 'is', 'not', 'that', 'good', '.'], ['My', 'side', 'Greek', 'salad', 'with', 'the', 'Greek', 'dressing', 'was', 'so', 'tasty', ',', 'and', 'the', 'pita', 'and', 'hummus', 'was', 'very', 'refreshing', '.'], ['Ordered', 'burger', 'rare', 'came', 'in', 'we', \"'ll\", 'done', '.'], ['Only', 'Pros', ':', 'Large', 'seating', 'area/', 'Nice', 'bar', 'area/', 'Great', 'simple', 'drink', 'menu/', 'The', 'BEST', 'brick', 'oven', 'pizza', 'with', 'homemade', 'dough', '!'], ['I', 'asked', 'multiple', 'times', 'for', 'the', 'wine', 'list', 'and', 'after', 'some', 'time', 'of', 'being', 'ignored', 'I', 'went', 'to', 'the', 'hostess', 'and', 'got', 'one', 'myself', '.'], ['Any', 'grandmother', 'can', 'make', 'a', 'roasted', 'chicken', 'better', 'than', 'this', 'one', '.'], ['The', 'selection', 'of', 'food', 'was', 'not', 'the', 'best', '.'], ['the', 'potatoes', 'were', 'great', 'and', 'so', 'was', 'the', 'biscuit', '.'], ['In', 'an', 'interesting', 'part', 'of', 'town', ',', 'this', 'place', 'is', 'amazing', '.'], ['The', 'steaks', 'are', 'all', 'well', 'trimmed', 'and', 'also', 'perfectly', 'cooked', '.'], ['It', 'took', 'over', '30', 'min', 'to', 'get', 'their', 'milkshake', ',', 'which', 'was', 'nothing', 'more', 'than', 'chocolate', 'milk', '.'], ['The', 'Heart', 'Attack', 'Grill', 'in', 'downtown', 'Vegas', 'is', 'an', 'absolutely', 'flat-lined', 'excuse', 'for', 'a', 'restaurant', '.'], ['Lastly', ',', 'the', 'mozzarella', 'sticks', ',', 'they', 'were', 'the', 'best', 'thing', 'we', 'ordered', '.'], ['The', 'server', 'was', 'very', 'negligent', 'of', 'our', 'needs', 'and', 'made', 'us', 'feel', 'very', 'unwelcome', '...', 'I', 'would', 'not', 'suggest', 'this', 'place', '!'], ['The', 'waiter', 'was', \"n't\", 'helpful', 'or', 'friendly', 'and', 'rarely', 'checked', 'on', 'us', '.'], ['Unfortunately', ',', 'it', 'only', 'set', 'us', 'up', 'for', 'disapppointment', 'with', 'our', 'entrees', '.'], ['I', 'had', 'heard', 'good', 'things', 'about', 'this', 'place', ',', 'but', 'it', 'exceeding', 'every', 'hope', 'I', 'could', 'have', 'dreamed', 'of', '.'], ['Before', 'I', 'go', 'in', 'to', 'why', 'I', 'gave', 'a', '1', 'star', 'rating', 'please', 'know', 'that', 'this', 'was', 'my', 'third', 'time', 'eating', 'at', 'Bachi', 'burger', 'before', 'writing', 'a', 'review', '.'], ['This', 'place', 'is', 'awesome', 'if', 'you', 'want', 'something', 'light', 'and', 'healthy', 'during', 'the', 'summer', '.'], ['The', 'classic', 'Maine', 'Lobster', 'Roll', 'was', 'fantastic', '.'], ['Nicest', 'Chinese', 'restaurant', 'I', \"'ve\", 'been', 'in', 'a', 'while', '.'], ['A', 'good', 'time', '!'], ['Definitely', 'not', 'worth', 'the', '$', '3', 'I', 'paid', '.'], ['Worst', 'food/service', 'I', \"'ve\", 'had', 'in', 'a', 'while', '.'], ['WAAAAAAyyyyyyyyyy', 'over', 'rated', 'is', 'all', 'I', 'am', 'saying', '.'], ['This', 'place', 'is', 'not', 'quality', 'sushi', ',', 'it', 'is', 'not', 'a', 'quality', 'restaurant', '.'], ['The', 'servers', 'are', 'not', 'pleasant', 'to', 'deal', 'with', 'and', 'they', 'do', \"n't\", 'always', 'honor', 'Pizza', 'Hut', 'coupons', '.'], ['If', 'you', 'want', 'to', 'wait', 'for', 'mediocre', 'food', 'and', 'downright', 'terrible', 'service', ',', 'then', 'this', 'is', 'the', 'place', 'for', 'you', '.'], ['Have', 'been', 'going', 'since', '2007', 'and', 'every', 'meal', 'has', 'been', 'awesome', '!', '!'], ['The', 'ambiance', 'is', \"n't\", 'much', 'better', '.'], ['Their', 'steaks', 'are', '100', '%', 'recommended', '!'], ['Food', 'was', 'really', 'boring', '.'], ['Lordy', ',', 'the', 'Khao', 'Soi', 'is', 'a', 'dish', 'that', 'is', 'not', 'to', 'be', 'missed', 'for', 'curry', 'lovers', '!'], ['We', 'thought', 'you', \"'d\", 'have', 'to', 'venture', 'further', 'away', 'to', 'get', 'good', 'sushi', ',', 'but', 'this', 'place', 'really', 'hit', 'the', 'spot', 'that', 'night', '.'], ['I', 'probably', 'would', 'not', 'go', 'here', 'again', '.'], ['I', 'ca', \"n't\", 'tell', 'you', 'how', 'disappointed', 'I', 'was', '.'], ['So', 'in', 'a', 'nutshell', ':', '1', ')', 'The', 'restaraunt', 'smells', 'like', 'a', 'combination', 'of', 'a', 'dirty', 'fish', 'market', 'and', 'a', 'sewer', '.'], ['The', 'sweet', 'potato', 'tots', 'were', 'good', 'but', 'the', 'onion', 'rings', 'were', 'perfection', 'or', 'as', 'close', 'as', 'I', 'have', 'had', '.'], ['It', 'sure', 'does', 'beat', 'the', 'nachos', 'at', 'the', 'movies', 'but', 'I', 'would', 'expect', 'a', 'little', 'bit', 'more', 'coming', 'from', 'a', 'restaurant', '.'], ['Coming', 'here', 'is', 'like', 'experiencing', 'an', 'underwhelming', 'relationship', 'where', 'both', 'parties', 'ca', \"n't\", 'wait', 'for', 'the', 'other', 'person', 'to', 'ask', 'to', 'break', 'up', '.'], ['This', 'place', 'has', 'it', '!'], ['It', 'was', 'absolutely', 'amazing', '.'], ['I', 'probably', 'wo', \"n't\", 'be', 'back', ',', 'to', 'be', 'honest', '.'], ['They', 'were', 'golden-crispy', 'and', 'delicious', '.'], ['I', 'had', 'the', 'mac', 'salad', 'and', 'it', 'was', 'pretty', 'bland', 'so', 'I', 'will', 'not', 'be', 'getting', 'that', 'again', '.'], ['The', 'manager', 'was', 'the', 'worst', '.'], ['I', 'really', 'enjoyed', 'Crema', 'Café', 'before', 'they', 'expanded', ';', 'I', 'even', 'told', 'friends', 'they', 'had', 'the', 'BEST', 'breakfast', '.'], ['Your', 'servers', 'suck', ',', 'wait', ',', 'correction', ',', 'our', 'server', 'Heimer', 'sucked', '.'], ['Soggy', 'and', 'not', 'good', '.'], ['The', 'food', 'was', 'terrible', '.'], ['I', 'LOVED', 'it', '!'], ['The', 'Greek', 'dressing', 'was', 'very', 'creamy', 'and', 'flavorful', '.'], ['Great', 'place', 'to', 'relax', 'and', 'have', 'an', 'awesome', 'burger', 'and', 'beer', '.'], ['Definitely', 'worth', 'venturing', 'off', 'the', 'strip', 'for', 'the', 'pork', 'belly', ',', 'will', 'return', 'next', 'time', 'I', \"'m\", 'in', 'Vegas', '.'], ['The', 'staff', 'was', 'very', 'attentive', '.'], ['And', 'service', 'was', 'super', 'friendly', '.'], ['I', \"'ve\", 'had', 'better', ',', 'not', 'only', 'from', 'dedicated', 'boba', 'tea', 'spots', ',', 'but', 'even', 'from', 'Jenni', 'Pho', '.'], ['Great', 'atmosphere', ',', 'friendly', 'and', 'fast', 'service', '.'], ['This', 'is', 'one', 'of', 'the', 'best', 'bars', 'with', 'food', 'in', 'Vegas', '.'], ['The', 'food', 'was', 'very', 'good', '.'], ['Del', 'Taco', 'is', 'pretty', 'nasty', 'and', 'should', 'be', 'avoided', 'if', 'possible', '.'], ['It', 'was', 'a', 'bit', 'too', 'sweet', ',', 'not', 'really', 'spicy', 'enough', ',', 'and', 'lacked', 'flavor', '.'], ['The', 'place', 'was', 'fairly', 'clean', 'but', 'the', 'food', 'simply', 'was', \"n't\", 'worth', 'it', '.'], ['This', 'is', 'a', 'really', 'fantastic', 'Thai', 'restaurant', 'which', 'is', 'definitely', 'worth', 'a', 'visit', '.'], ['Seriously', 'flavorful', 'delights', ',', 'folks', '.'], ['It', 'was', 'awesome', '.'], ['This', 'is', 'a', 'great', 'restaurant', 'at', 'the', 'Mandalay', 'Bay', '.'], ['We', 'also', 'ordered', 'the', 'spinach', 'and', 'avocado', 'salad', ';', 'the', 'ingredients', 'were', 'sad', 'and', 'the', 'dressing', 'literally', 'had', 'zero', 'taste', '.'], ['One', 'of', 'the', 'few', 'places', 'in', 'Phoenix', 'that', 'I', 'would', 'definately', 'go', 'back', 'to', 'again', '.'], ['I', 'would', 'not', 'recommend', 'this', 'place', '.'], ['Everything', 'was', 'gross', '.'], ['The', 'last', '3', 'times', 'I', 'had', 'lunch', 'here', 'has', 'been', 'bad', '.'], ['Great', 'Subway', ',', 'in', 'fact', 'it', \"'s\", 'so', 'good', 'when', 'you', 'come', 'here', 'every', 'other', 'Subway', 'will', 'not', 'meet', 'your', 'expectations', '.'], ['Just', 'as', 'good', 'as', 'when', 'I', 'had', 'it', 'more', 'than', 'a', 'year', 'ago', '!'], ['Penne', 'vodka', 'excellent', '!'], ['a', 'drive', 'thru', 'means', 'you', 'do', 'not', 'want', 'to', 'wait', 'around', 'for', 'half', 'an', 'hour', 'for', 'your', 'food', ',', 'but', 'somehow', 'when', 'we', 'end', 'up', 'going', 'here', 'they', 'make', 'us', 'wait', 'and', 'wait', '.'], ['As', 'much', 'as', 'I', \"'d\", 'like', 'to', 'go', 'back', ',', 'I', 'ca', \"n't\", 'get', 'passed', 'the', 'atrocious', 'service', 'and', 'will', 'never', 'return', '.'], ['The', 'pan', 'cakes', 'everyone', 'are', 'raving', 'about', 'taste', 'like', 'a', 'sugary', 'disaster', 'tailored', 'to', 'the', 'palate', 'of', 'a', 'six', 'year', 'old', '.'], ['He', 'deserves', '5', 'stars', '.'], ['Food', 'was', 'good', ',', 'service', 'was', 'good', ',', 'Prices', 'were', 'good', '.'], ['We', 'will', 'not', 'be', 'coming', 'back', '.'], ['The', 'chicken', 'dishes', 'are', 'OK', ',', 'the', 'beef', 'is', 'like', 'shoe', 'leather', '.'], ['The', 'ambiance', 'was', 'incredible', '.'], ['The', 'only', 'reason', 'to', 'eat', 'here', 'would', 'be', 'to', 'fill', 'up', 'before', 'a', 'night', 'of', 'binge', 'drinking', 'just', 'to', 'get', 'some', 'carbs', 'in', 'your', 'stomach', '.'], ['We', 'watched', 'our', 'waiter', 'pay', 'a', 'lot', 'more', 'attention', 'to', 'other', 'tables', 'and', 'ignore', 'us', '.'], ['The', 'chips', 'and', 'sals', 'a', 'here', 'is', 'amazing', '!', '!', '!', '!', '!', '!', '!', '!', '!', '!', '!', '!', '!', '!', '!', '!', '!', '!', '!'], ['Everything', 'on', 'the', 'menu', 'is', 'terrific', 'and', 'we', 'were', 'also', 'thrilled', 'that', 'they', 'made', 'amazing', 'accommodations', 'for', 'our', 'vegetarian', 'daughter', '.'], ['The', 'block', 'was', 'amazing', '.'], ['The', 'food', 'is', 'delicious', 'and', 'just', 'spicy', 'enough', ',', 'so', 'be', 'sure', 'to', 'ask', 'for', 'spicier', 'if', 'you', 'prefer', 'it', 'that', 'way', '.'], ['I', 'wo', \"n't\", 'be', 'back', '.'], ['The', 'ripped', 'banana', 'was', 'not', 'only', 'ripped', ',', 'but', 'petrified', 'and', 'tasteless', '.'], ['The', 'food', 'is', 'very', 'good', 'for', 'your', 'typical', 'bar', 'food', '.'], ['We', 'waited', 'for', 'forty', 'five', 'minutes', 'in', 'vain', '.'], ['But', 'then', 'they', 'came', 'back', 'cold', '.'], ['We', 'got', 'the', 'food', 'and', 'apparently', 'they', 'have', 'never', 'heard', 'of', 'salt', 'and', 'the', 'batter', 'on', 'the', 'fish', 'was', 'chewy', '.'], ['They', 'have', 'great', 'dinners', '.'], ['The', 'service', 'was', 'a', 'bit', 'lacking', '.'], ['We', 'enjoy', 'their', 'pizza', 'and', 'brunch', '.'], ['I', 'was', 'seated', 'immediately', '.'], ['Service', 'sucks', '.'], ['Spend', 'your', 'money', 'and', 'time', 'some', 'place', 'else', '.'], ['Then', ',', 'as', 'if', 'I', 'had', \"n't\", 'wasted', 'enough', 'of', 'my', 'life', 'there', ',', 'they', 'poured', 'salt', 'in', 'the', 'wound', 'by', 'drawing', 'out', 'the', 'time', 'it', 'took', 'to', 'bring', 'the', 'check', '.'], ['Our', 'server', 'was', 'very', 'nice', ',', 'and', 'even', 'though', 'he', 'looked', 'a', 'little', 'overwhelmed', 'with', 'all', 'of', 'our', 'needs', ',', 'he', 'stayed', 'professional', 'and', 'friendly', 'until', 'the', 'end', '.'], ['Not', 'a', 'single', 'employee', 'came', 'out', 'to', 'see', 'if', 'we', 'were', 'OK', 'or', 'even', 'needed', 'a', 'water', 'refill', 'once', 'they', 'finally', 'served', 'us', 'our', 'food', '.'], ['Probably', 'never', 'coming', 'back', ',', 'and', 'would', \"n't\", 'recommend', 'it', '.'], ['I', 'never', 'come', 'again', '.'], ['Host', 'staff', 'were', ',', 'for', 'lack', 'of', 'a', 'better', 'word', ',', 'BITCHES', '!'], ['Your', 'staff', 'spends', 'more', 'time', 'talking', 'to', 'themselves', 'than', 'me', '.'], ['In', 'summary', ',', 'this', 'was', 'a', 'largely', 'disappointing', 'dining', 'experience', '.'], ['this', 'is', 'the', 'worst', 'sushi', 'i', 'have', 'ever', 'eat', 'besides', 'Costco', \"'s\", '.'], ['After', 'waiting', 'an', 'hour', 'and', 'being', 'seated', ',', 'I', 'was', 'not', 'in', 'the', 'greatest', 'of', 'moods', '.'], ['The', 'building', 'itself', 'seems', 'pretty', 'neat', ';', 'the', 'bathroom', 'is', 'pretty', 'trippy', ',', 'but', 'I', 'would', \"n't\", 'eat', 'here', 'again', '.'], ['I', 'dont', 'think', 'I', 'will', 'be', 'back', 'for', 'a', 'very', 'long', 'time', '.'], ['The', 'cashew', 'cream', 'sauce', 'was', 'bland', 'and', 'the', 'vegetables', 'were', 'undercooked', '.'], ['Although', 'I', 'very', 'much', 'liked', 'the', 'look', 'and', 'sound', 'of', 'this', 'place', ',', 'the', 'actual', 'experience', 'was', 'a', 'bit', 'disappointing', '.'], ['And', 'the', 'red', 'curry', 'had', 'so', 'much', 'bamboo', 'shoots', 'and', 'was', \"n't\", 'very', 'tasty', 'to', 'me', '.'], ['This', 'place', 'lacked', 'style', '!', '!'], ['The', 'sangria', 'was', 'about', 'half', 'of', 'a', 'glass', 'wine', 'full', 'and', 'was', '$', '12', ',', 'ridiculous', '.'], ['A', 'greasy', ',', 'unhealthy', 'meal', '.'], ['Today', 'was', 'my', 'first', 'taste', 'of', 'a', 'Buldogis', 'Gourmet', 'Hot', 'Dog', 'and', 'I', 'have', 'to', 'tell', 'you', 'it', 'was', 'more', 'than', 'I', 'ever', 'thought', 'possible', '.'], ['The', 'seasonal', 'fruit', 'was', 'fresh', 'white', 'peach', 'puree', '.'], ['Boy', 'was', 'that', 'sucker', 'dry', '!', '!', '.'], ['Food', 'was', 'below', 'average', '.'], ['The', 'ambience', 'is', 'wonderful', 'and', 'there', 'is', 'music', 'playing', '.'], ['Not', 'my', 'thing', '.'], ['Update', '...', '..went', 'back', 'for', 'a', 'second', 'time', 'and', 'it', 'was', 'still', 'just', 'as', 'amazing'], ['I', 'live', 'in', 'the', 'neighborhood', 'so', 'I', 'am', 'disappointed', 'I', 'wo', \"n't\", 'be', 'back', 'here', ',', 'because', 'it', 'is', 'a', 'convenient', 'location', '.'], ['Do', \"n't\", 'do', 'it', '!', '!', '!', '!'], ['We', 'waited', 'an', 'hour', 'for', 'what', 'was', 'a', 'breakfast', 'I', 'could', 'have', 'done', '100', 'times', 'better', 'at', 'home', '.'], ['This', 'place', 'deserves', 'one', 'star', 'and', '90', '%', 'has', 'to', 'do', 'with', 'the', 'food', '.'], ['On', 'the', 'ground', ',', 'right', 'next', 'to', 'our', 'table', 'was', 'a', 'large', ',', 'smeared', ',', 'been-stepped-in-and-tracked-everywhere', 'pile', 'of', 'green', 'bird', 'poop', '.'], ['AVOID', 'THIS', 'ESTABLISHMENT', '!'], ['This', 'is', 'one', 'of', 'the', 'better', 'buffets', 'that', 'I', 'have', 'been', 'to', '.'], ['Our', 'waiter', 'was', 'very', 'attentive', ',', 'friendly', ',', 'and', 'informative', '.'], ['If', 'you', 'want', 'a', 'sandwich', 'just', 'go', 'to', 'any', 'Firehouse', '!', '!', '!', '!', '!'], ['Shrimp-', 'When', 'I', 'unwrapped', 'it', '(', 'I', 'live', 'only', '1/2', 'a', 'mile', 'from', 'Brushfire', ')', 'it', 'was', 'literally', 'ice', 'cold', '.'], ['We', 'were', 'promptly', 'greeted', 'and', 'seated', '.'], ['I', \"'m\", 'not', 'really', 'sure', 'how', 'Joey', \"'s\", 'was', 'voted', 'best', 'hot', 'dog', 'in', 'the', 'Valley', 'by', 'readers', 'of', 'Phoenix', 'Magazine', '.'], ['My', 'girlfriend', \"'s\", 'veal', 'was', 'very', 'bad', '.'], ['No', 'complaints', '!'], ['The', 'only', 'redeeming', 'quality', 'of', 'the', 'restaurant', 'was', 'that', 'it', 'was', 'very', 'inexpensive', '.'], ['I', 'promise', 'they', 'wo', \"n't\", 'disappoint', '.'], ['Back', 'to', 'good', 'BBQ', ',', 'lighter', 'fare', ',', 'reasonable', 'pricing', 'and', 'tell', 'the', 'public', 'they', 'are', 'back', 'to', 'the', 'old', 'ways', '.'], ['Omelets', 'are', 'to', 'die', 'for', '!'], ['Bad', 'day', 'or', 'not', ',', 'I', 'have', 'a', 'very', 'low', 'tolerance', 'for', 'rude', 'customer', 'service', 'people', ',', 'it', 'is', 'your', 'job', 'to', 'be', 'nice', 'and', 'polite', ',', 'wash', 'dishes', 'otherwise', '!', '!'], ['This', 'greedy', 'corporation', 'will', 'NEVER', 'see', 'another', 'dime', 'from', 'me', '!'], ['i', 'felt', 'insulted', 'and', 'disrespected', ',', 'how', 'could', 'you', 'talk', 'and', 'judge', 'another', 'human', 'being', 'like', 'that', '?'], ['This', 'is', 'my', 'new', 'fav', 'Vegas', 'buffet', 'spot', '.'], ['Despite', 'how', 'hard', 'I', 'rate', 'businesses', ',', 'its', 'actually', 'rare', 'for', 'me', 'to', 'give', 'a', '1', 'star', '.'], ['The', 'cocktails', 'are', 'all', 'handmade', 'and', 'delicious', '.'], ['My', 'first', 'visit', 'to', 'Hiro', 'was', 'a', 'delight', '!'], ['Ordered', 'an', 'appetizer', 'and', 'took', '40', 'minutes', 'and', 'then', 'the', 'pizza', 'another', '10', 'minutes', '.'], ['I', 'wo', \"n't\", 'try', 'going', 'back', 'there', 'even', 'if', 'it', \"'s\", 'empty', '.'], ['The', 'bartender', 'was', 'also', 'nice', '.'], ['I', 'have', 'never', 'had', 'such', 'bland', 'food', 'which', 'surprised', 'me', 'considering', 'the', 'article', 'we', 'read', 'focused', 'so', 'much', 'on', 'their', 'spices', 'and', 'flavor', '.'], ['for', '40', 'bucks', 'a', 'head', ',', 'i', 'really', 'expect', 'better', 'food', '.'], ['Dessert', ':', 'Panna', 'Cotta', 'was', 'amazing', '.'], ['Those', 'burgers', 'were', 'amazing', '.'], ['It', 'was', 'attached', 'to', 'a', 'gas', 'station', ',', 'and', 'that', 'is', 'rarely', 'a', 'good', 'sign', '.'], ['The', 'potato', 'chip', 'order', 'was', 'sad', '...', 'I', 'could', 'probably', 'count', 'how', 'many', 'chips', 'were', 'in', 'that', 'box', 'and', 'it', 'was', 'probably', 'around', '12', '.'], ['You', 'cant', 'go', 'wrong', 'with', 'any', 'of', 'the', 'food', 'here', '.'], ['Strike', '2', ',', 'who', 'wants', 'to', 'be', 'rushed', '.'], ['You', 'wo', \"n't\", 'be', 'disappointed', '.'], ['Tonight', 'I', 'had', 'the', 'Elk', 'Filet', 'special', '...', 'and', 'it', 'sucked', '.'], ['I', 'would', 'definitely', 'recommend', 'the', 'wings', 'as', 'well', 'as', 'the', 'pizza', '.'], ['Not', 'much', 'flavor', 'to', 'them', ',', 'and', 'very', 'poorly', 'constructed', '.'], ['Would', 'not', 'recommend', 'to', 'others', '.'], ['I', 'will', 'not', 'be', 'eating', 'there', 'again', '.'], ['The', 'chicken', 'was', 'deliciously', 'seasoned', 'and', 'had', 'the', 'perfect', 'fry', 'on', 'the', 'outside', 'and', 'moist', 'chicken', 'on', 'the', 'inside', '.'], ['Food', 'arrived', 'quickly', '!'], ['I', 'got', 'to', 'enjoy', 'the', 'seafood', 'salad', ',', 'with', 'a', 'fabulous', 'vinegrette', '.'], ['Seafood', 'was', 'limited', 'to', 'boiled', 'shrimp', 'and', 'crab', 'legs', 'but', 'the', 'crab', 'legs', 'definitely', 'did', 'not', 'taste', 'fresh', '.'], ['For', 'service', ',', 'I', 'give', 'them', 'no', 'stars', '.'], ['After', 'I', 'pulled', 'up', 'my', 'car', 'I', 'waited', 'for', 'another', '15', 'minutes', 'before', 'being', 'acknowledged', '.'], ['The', 'food', 'was', 'delicious', ',', 'our', 'bartender', 'was', 'attentive', 'and', 'personable', 'AND', 'we', 'got', 'a', 'great', 'deal', '!'], ['Waited', '2', 'hours', '&', 'never', 'got', 'either', 'of', 'our', 'pizzas', 'as', 'many', 'other', 'around', 'us', 'who', 'came', 'in', 'later', 'did', '!'], ['My', 'friend', 'loved', 'the', 'salmon', 'tartar', '.'], ['As', 'a', 'sushi', 'lover', 'avoid', 'this', 'place', 'by', 'all', 'means', '.'], ['I', 'love', 'their', 'fries', 'and', 'their', 'beans', '.'], ['After', '20', 'minutes', 'wait', ',', 'I', 'got', 'a', 'table', '.'], ['I', \"'m\", 'not', 'eating', 'here', '!'], ['The', 'vegetables', 'are', 'so', 'fresh', 'and', 'the', 'sauce', 'feels', 'like', 'authentic', 'Thai', '.'], ['The', 'pizza', 'selections', 'are', 'good', '.'], ['I', 'think', 'not', 'again'], ['The', 'decor', 'is', 'nice', ',', 'and', 'the', 'piano', 'music', 'soundtrack', 'is', 'pleasant', '.'], ['Level', '5', 'spicy', 'was', 'perfect', ',', 'where', 'spice', 'did', \"n't\", 'over-whelm', 'the', 'soup', '.'], ['Overall', ',', 'I', 'was', 'very', 'disappointed', 'with', 'the', 'quality', 'of', 'food', 'at', 'Bouchon', '.'], ['It', 'was', 'just', 'not', 'a', 'fun', 'experience', '.'], ['Tried', 'to', 'go', 'here', 'for', 'lunch', 'and', 'it', 'was', 'a', 'madhouse', '.'], ['They', 'have', 'horrible', 'attitudes', 'towards', 'customers', ',', 'and', 'talk', 'down', 'to', 'each', 'one', 'when', 'customers', 'do', \"n't\", 'enjoy', 'their', 'food', '.'], ['Third', ',', 'the', 'cheese', 'on', 'my', 'friend', \"'s\", 'burger', 'was', 'cold', '.'], ['Frozen', 'pucks', 'of', 'disgust', ',', 'with', 'some', 'of', 'the', 'worst', 'people', 'behind', 'the', 'register', '.'], ['Damn', 'good', 'steak', '.'], ['It', \"'s\", 'close', 'to', 'my', 'house', ',', 'it', \"'s\", 'low-key', ',', 'non-fancy', ',', 'affordable', 'prices', ',', 'good', 'food', '.'], ['As', 'for', 'the', 'service', ',', 'I', 'thought', 'it', 'was', 'good', '.'], ['Great', 'time', '-', 'family', 'dinner', 'on', 'a', 'Sunday', 'night', '.'], ['The', 'only', 'thing', 'I', 'was', \"n't\", 'too', 'crazy', 'about', 'was', 'their', 'guacamole', 'as', 'I', 'do', \"n't\", 'like', 'it', 'puréed', '.'], ['I', '*heart*', 'this', 'place', '.'], ['It', 'was', 'extremely', '``', 'crumby', \"''\", 'and', 'pretty', 'tasteless', '.'], ['This', 'place', 'is', 'not', 'worth', 'your', 'time', ',', 'let', 'alone', 'Vegas', '.'], ['What', 'SHOULD', 'have', 'been', 'a', 'hilarious', ',', 'yummy', 'Christmas', 'Eve', 'dinner', 'to', 'remember', 'was', 'the', 'biggest', 'fail', 'of', 'the', 'entire', 'trip', 'for', 'us', '.'], ['Everything', 'was', 'perfect', 'the', 'night', 'we', 'were', 'in', '.'], ['The', 'roast', 'beef', 'sandwich', 'tasted', 'really', 'good', '!'], ['I', 'hope', 'this', 'place', 'sticks', 'around', '.'], ['If', 'someone', 'orders', 'two', 'tacos', 'do', \"n't\", \"'\", 'you', 'think', 'it', 'may', 'be', 'part', 'of', 'customer', 'service', 'to', 'ask', 'if', 'it', 'is', 'combo', 'or', 'ala', 'cart', '?'], ['On', 'the', 'up', 'side', ',', 'their', 'cafe', 'serves', 'really', 'good', 'food', '.'], ['Very', 'good', 'food', ',', 'great', 'atmosphere.1'], ['Never', 'had', 'anything', 'to', 'complain', 'about', 'here', '.'], ['This', 'place', 'was', 'such', 'a', 'nice', 'surprise', '!'], ['The', 'tables', 'outside', 'are', 'also', 'dirty', 'a', 'lot', 'of', 'the', 'time', 'and', 'the', 'workers', 'are', 'not', 'always', 'friendly', 'and', 'helpful', 'with', 'the', 'menu', '.'], ['did', 'not', 'like', 'at', 'all', '.'], ['Do', 'not', 'waste', 'your', 'money', 'here', '!'], ['I', 'came', 'back', 'today', 'since', 'they', 'relocated', 'and', 'still', 'not', 'impressed', '.'], ['The', 'fries', 'were', 'great', 'too', '.'], ['We', 'wo', \"n't\", 'be', 'returning', '.'], ['The', 'food', 'is', 'about', 'on', 'par', 'with', 'Denny', \"'s\", ',', 'which', 'is', 'to', 'say', ',', 'not', 'good', 'at', 'all', '.'], ['We', 'had', 'fantastic', 'service', ',', 'and', 'were', 'pleased', 'by', 'the', 'atmosphere', '.'], ['It', 'was', 'either', 'too', 'cold', ',', 'not', 'enough', 'flavor', 'or', 'just', 'bad', '.'], ['No', 'allergy', 'warnings', 'on', 'the', 'menu', ',', 'and', 'the', 'waitress', 'had', 'absolutely', 'no', 'clue', 'as', 'to', 'which', 'meals', 'did', 'or', 'did', 'not', 'contain', 'peanuts', '.'], ['Mediocre', 'food', '.'], ['Do', \"n't\", 'waste', 'your', 'time', 'here', '.'], ['Why', 'are', 'these', 'sad', 'little', 'vegetables', 'so', 'overcooked', '?'], ['Also', ',', 'I', 'feel', 'like', 'the', 'chips', 'are', 'bought', ',', 'not', 'made', 'in', 'house', '.'], ['This', 'was', 'my', 'first', 'and', 'only', 'Vegas', 'buffet', 'and', 'it', 'did', 'not', 'disappoint', '.'], ['For', 'sushi', 'on', 'the', 'Strip', ',', 'this', 'is', 'the', 'place', 'to', 'go', '.'], ['When', 'I', 'opened', 'the', 'sandwich', ',', 'I', 'was', 'impressed', ',', 'but', 'not', 'in', 'a', 'good', 'way', '.'], ['Now', 'this', 'dish', 'was', 'quite', 'flavourful', '.'], ['The', 'Burrittos', 'Blah', '!'], ['It', 'was', 'packed', '!', '!'], ['The', 'yellowtail', 'carpaccio', 'was', 'melt', 'in', 'your', 'mouth', 'fresh', '.'], ['The', 'real', 'disappointment', 'was', 'our', 'waiter', '.'], ['The', 'feel', 'of', 'the', 'dining', 'room', 'was', 'more', 'college', 'cooking', 'course', 'than', 'high', 'class', 'dining', 'and', 'the', 'service', 'was', 'slow', 'at', 'best', '.'], ['The', 'sides', 'are', 'delish', '-', 'mixed', 'mushrooms', ',', 'yukon', 'gold', 'puree', ',', 'white', 'corn', '-', 'beateous', '.'], ['I', 'got', 'home', 'to', 'see', 'the', 'driest', 'damn', 'wings', 'ever', '!'], ['I', 'love', 'this', 'place', '.'], ['The', 'restaurant', 'is', 'very', 'clean', 'and', 'has', 'a', 'family', 'restaurant', 'feel', 'to', 'it', '.'], ['Fantastic', 'service', 'here', '.'], ['The', 'menu', 'is', 'always', 'changing', ',', 'food', 'quality', 'is', 'going', 'down', '&', 'service', 'is', 'extremely', 'slow', '.'], ['It', 'is', 'worth', 'the', 'drive', '.'], ['We', 'started', 'with', 'the', 'tuna', 'sashimi', 'which', 'was', 'brownish', 'in', 'color', 'and', 'obviously', 'was', \"n't\", 'fresh', '.'], ['The', 'sweet', 'potato', 'fries', 'were', 'very', 'good', 'and', 'seasoned', 'well', '.'], ['A', 'couple', 'of', 'months', 'later', ',', 'I', 'returned', 'and', 'had', 'an', 'amazing', 'meal', '.'], ['The', 'service', 'was', 'meh', '.'], ['All', 'in', 'all', ',', 'Ha', 'Long', 'Bay', 'was', 'a', 'bit', 'of', 'a', 'flop', '.'], ['From', 'what', 'my', 'dinner', 'companions', 'told', 'me', '...', 'everything', 'was', 'very', 'fresh', 'with', 'nice', 'texture', 'and', 'taste', '.'], ['Waitress', 'was', 'sweet', 'and', 'funny', '.'], ['Weird', 'vibe', 'from', 'owners', '.'], ['The', 'crêpe', 'was', 'delicate', 'and', 'thin', 'and', 'moist', '.'], ['And', 'the', 'chef', 'was', 'generous', 'with', 'his', 'time', '(', 'even', 'came', 'around', 'twice', 'so', 'we', 'can', 'take', 'pictures', 'with', 'him', ')', '.'], ['Good', 'value', ',', 'great', 'food', ',', 'great', 'service', '.'], ['2', 'times', '-', 'Very', 'Bad', 'Customer', 'Service', '!'], ['One', 'nice', 'thing', 'was', 'that', 'they', 'added', 'gratuity', 'on', 'the', 'bill', 'since', 'our', 'party', 'was', 'larger', 'than', '6', 'or', '8', ',', 'and', 'they', 'did', \"n't\", 'expect', 'more', 'tip', 'than', 'that', '.'], ['So', 'we', 'went', 'to', 'Tigerlilly', 'and', 'had', 'a', 'fantastic', 'afternoon', '!'], ['The', 'portion', 'was', 'huge', '!'], ['Very', 'convenient', ',', 'since', 'we', 'were', 'staying', 'at', 'the', 'MGM', '!'], ['The', 'steak', 'and', 'the', 'shrimp', 'are', 'in', 'my', 'opinion', 'the', 'best', 'entrees', 'at', 'GC', '.'], ['We', 'had', 'so', 'much', 'to', 'say', 'about', 'the', 'place', 'before', 'we', 'walked', 'in', 'that', 'he', 'expected', 'it', 'to', 'be', 'amazing', ',', 'but', 'was', 'quickly', 'disappointed', '.'], ['It', \"'ll\", 'be', 'a', 'regular', 'stop', 'on', 'my', 'trips', 'to', 'Phoenix', '!'], ['This', 'is', 'an', 'Outstanding', 'little', 'restaurant', 'with', 'some', 'of', 'the', 'Best', 'Food', 'I', 'have', 'ever', 'tasted', '.'], ['I', 'do', \"n't\", 'think', 'I', \"'ll\", 'be', 'running', 'back', 'to', 'Carly', \"'s\", 'anytime', 'soon', 'for', 'food', '.'], ['The', 'restaurant', 'atmosphere', 'was', 'exquisite', '.'], ['A', 'great', 'touch', '.'], ['The', 'salad', 'had', 'just', 'the', 'right', 'amount', 'of', 'sauce', 'to', 'not', 'over', 'power', 'the', 'scallop', ',', 'which', 'was', 'perfectly', 'cooked', '.'], ['The', 'wontons', 'were', 'thin', ',', 'not', 'thick', 'and', 'chewy', ',', 'almost', 'melt', 'in', 'your', 'mouth', '.'], ['I', 'love', 'this', 'place', '.'], ['The', 'service', 'was', 'a', 'little', 'slow', ',', 'considering', 'that', 'were', 'served', 'by', '3', 'people', 'servers', 'so', 'the', 'food', 'was', 'coming', 'in', 'a', 'slow', 'pace', '.'], ['Both', 'of', 'the', 'egg', 'rolls', 'were', 'fantastic', '.'], ['I', 'tried', 'the', 'Cape', 'Cod', 'ravoli', ',', 'chicken', ',', 'with', 'cranberry', '...', 'mmmm', '!'], ['Food', 'was', 'great', 'and', 'so', 'was', 'the', 'serivce', '!'], ['We', 'loved', 'the', 'place', '.'], ['I', 'will', 'come', 'back', 'here', 'every', 'time', 'I', \"'m\", 'in', 'Vegas', '.'], ['The', 'steak', 'was', 'amazing', '...', 'rge', 'fillet', 'relleno', 'was', 'the', 'best', 'seafood', 'plate', 'i', 'have', 'ever', 'had', '!'], ['2', 'Thumbs', 'Up', '!', '!'], ['My', 'friend', 'did', 'not', 'like', 'his', 'Bloody', 'Mary', '.'], ['The', 'food', 'was', 'outstanding', 'and', 'the', 'prices', 'were', 'very', 'reasonable', '.'], ['TOTAL', 'WASTE', 'OF', 'TIME', '.'], ['We', 'asked', 'for', 'the', 'bill', 'to', 'leave', 'without', 'eating', 'and', 'they', 'did', \"n't\", 'bring', 'that', 'either', '.'], ['I', 'had', 'a', 'salad', 'with', 'the', 'wings', ',', 'and', 'some', 'ice', 'cream', 'for', 'dessert', 'and', 'left', 'feeling', 'quite', 'satisfied', '.'], ['The', 'best', 'place', 'in', 'Vegas', 'for', 'breakfast', '(', 'just', 'check', 'out', 'a', 'Sat', ',', 'or', 'Sun', '.'], ['AN', 'HOUR', '...', 'seriously', '?'], ['It', 'also', 'took', 'her', 'forever', 'to', 'bring', 'us', 'the', 'check', 'when', 'we', 'asked', 'for', 'it', '.'], ['I', 'like', 'Steiners', 'because', 'it', \"'s\", 'dark', 'and', 'it', 'feels', 'like', 'a', 'bar', '.'], ['Cant', 'say', 'enough', 'good', 'things', 'about', 'this', 'place', '.'], ['This', 'place', 'should', 'honestly', 'be', 'blown', 'up', '.'], ['A', 'fantastic', 'neighborhood', 'gem', '!', '!', '!'], ['Great', 'place', 'to', 'have', 'a', 'couple', 'drinks', 'and', 'watch', 'any', 'and', 'all', 'sporting', 'events', 'as', 'the', 'walls', 'are', 'covered', 'with', 'TV', \"'s\", '.'], ['Insults', ',', 'profound', 'deuchebaggery', ',', 'and', 'had', 'to', 'go', 'outside', 'for', 'a', 'smoke', 'break', 'while', 'serving', 'just', 'to', 'solidify', 'it', '.'], ['What', 'a', 'mistake', '.'], ['I', 'guess', 'maybe', 'we', 'went', 'on', 'an', 'off', 'night', 'but', 'it', 'was', 'disgraceful', '.'], ['Overpriced', 'for', 'what', 'you', 'are', 'getting', '.'], ['This', 'place', 'deserves', 'no', 'stars', '.'], ['Not', 'tasty', 'and', 'the', 'texture', 'was', 'just', 'nasty', '.'], ['I', 'do', \"n't\", 'have', 'to', 'be', 'an', 'accountant', 'to', 'know', 'I', \"'m\", 'getting', 'screwed', '!'], ['The', 'food', 'was', 'very', 'good', 'and', 'I', 'enjoyed', 'every', 'mouthful', ',', 'an', 'enjoyable', 'relaxed', 'venue', 'for', 'couples', 'small', 'family', 'groups', 'etc', '.'], ['I', 'miss', 'it', 'and', 'wish', 'they', 'had', 'one', 'in', 'Philadelphia', '!'], ['If', 'you', \"'re\", 'not', 'familiar', ',', 'check', 'it', 'out', '.'], ['The', 'guys', 'all', 'had', 'steaks', ',', 'and', 'our', 'steak', 'loving', 'son', 'who', 'has', 'had', 'steak', 'at', 'the', 'best', 'and', 'worst', 'places', 'said', 'it', 'was', 'the', 'best', 'steak', 'he', \"'s\", 'ever', 'eaten', '.'], ['Now', 'I', 'am', 'getting', 'angry', 'and', 'I', 'want', 'my', 'damn', 'pho', '.'], ['The', 'cashier', 'had', 'no', 'care', 'what', 'so', 'ever', 'on', 'what', 'I', 'had', 'to', 'say', 'it', 'still', 'ended', 'up', 'being', 'wayyy', 'overpriced', '.'], ['Unfortunately', ',', 'it', 'was', 'not', 'good', '.'], ['We', 'waited', 'for', 'thirty', 'minutes', 'to', 'be', 'seated', '(', 'although', 'there', 'were', '8', 'vacant', 'tables', 'and', 'we', 'were', 'the', 'only', 'folks', 'waiting', ')', '.'], ['I', 'dressed', 'up', 'to', 'be', 'treated', 'so', 'rudely', '!'], ['The', 'bathrooms', 'are', 'clean', 'and', 'the', 'place', 'itself', 'is', 'well', 'decorated', '.'], ['Great', 'service', 'and', 'food', '.'], ['The', 'burger', 'is', 'good', 'beef', ',', 'cooked', 'just', 'right', '.'], ['The', 'RI', 'style', 'calamari', 'was', 'a', 'joke', '.'], ['Prices', 'are', 'very', 'reasonable', ',', 'flavors', 'are', 'spot', 'on', ',', 'the', 'sauce', 'is', 'home', 'made', ',', 'and', 'the', 'slaw', 'is', 'not', 'drenched', 'in', 'mayo', '.'], ['first', 'time', 'there', 'and', 'might', 'just', 'be', 'the', 'last', '.'], ['I', 'as', 'well', 'would', \"'ve\", 'given', 'godfathers', 'zero', 'stars', 'if', 'possible', '.'], ['I', \"'m\", 'not', 'impressed', 'with', 'the', 'concept', 'or', 'the', 'food', '.'], ['Very', 'disappointing', '!', '!', '!'], ['this', 'place', 'is', 'good', '.'], ['Once', 'you', 'get', 'inside', 'you', \"'ll\", 'be', 'impressed', 'with', 'the', 'place', '.'], ['By', 'far', 'the', 'BEST', 'cheesecurds', 'we', 'have', 'ever', 'had', '!'], ['Anyways', ',', 'The', 'food', 'was', 'definitely', 'not', 'filling', 'at', 'all', ',', 'and', 'for', 'the', 'price', 'you', 'pay', 'you', 'should', 'expect', 'more', '.'], ['The', 'staff', 'are', 'now', 'not', 'as', 'friendly', ',', 'the', 'wait', 'times', 'for', 'being', 'served', 'are', 'horrible', ',', 'no', 'one', 'even', 'says', 'hi', 'for', 'the', 'first', '10', 'minutes', '.'], ['The', 'service', 'was', 'terrible', ',', 'food', 'was', 'mediocre', '.'], ['This', 'really', 'is', 'how', 'Vegas', 'fine', 'dining', 'used', 'to', 'be', ',', 'right', 'down', 'to', 'the', 'menus', 'handed', 'to', 'the', 'ladies', 'that', 'have', 'no', 'prices', 'listed', '.'], ['The', 'problem', 'I', 'have', 'is', 'that', 'they', 'charge', '$', '11.99', 'for', 'a', 'sandwich', 'that', 'is', 'no', 'bigger', 'than', 'a', 'Subway', 'sub', '(', 'which', 'offers', 'better', 'and', 'more', 'amount', 'of', 'vegetables', ')', '.'], ['My', 'fella', 'got', 'the', 'huevos', 'rancheros', 'and', 'they', 'did', \"n't\", 'look', 'too', 'appealing', '.'], ['But', 'I', 'do', \"n't\", 'like', 'it', '.'], ['Nice', 'blanket', 'of', 'moz', 'over', 'top', 'but', 'i', 'feel', 'like', 'this', 'was', 'done', 'to', 'cover', 'up', 'the', 'subpar', 'food', '.'], ['The', 'potatoes', 'were', 'like', 'rubber', 'and', 'you', 'could', 'tell', 'they', 'had', 'been', 'made', 'up', 'ahead', 'of', 'time', 'being', 'kept', 'under', 'a', 'warmer', '.'], ['Our', 'server', 'was', 'fantastic', 'and', 'when', 'he', 'found', 'out', 'the', 'wife', 'loves', 'roasted', 'garlic', 'and', 'bone', 'marrow', ',', 'he', 'added', 'extra', 'to', 'our', 'meal', 'and', 'another', 'marrow', 'to', 'go', '!'], ['I', 'waited', 'and', 'waited', '.'], ['The', 'goat', 'taco', 'did', \"n't\", 'skimp', 'on', 'the', 'meat', 'and', 'wow', 'what', 'FLAVOR', '!'], ['It', 'kept', 'getting', 'worse', 'and', 'worse', 'so', 'now', 'I', \"'m\", 'officially', 'done', '.'], ['Con', ':', 'spotty', 'service', '.'], ['But', 'now', 'I', 'was', 'completely', 'grossed', 'out', '.'], ['I', 'wo', \"n't\", 'be', 'back', '.'], ['This', 'place', 'is', 'horrible', 'and', 'way', 'overpriced', '.'], ['Would', 'not', 'go', 'back', '.'], ['They', 'have', 'a', 'really', 'nice', 'atmosphere', '.'], ['Over', 'rated', '.'], ['I', 'do', 'love', 'sushi', ',', 'but', 'I', 'found', 'Kabuki', 'to', 'be', 'over-priced', ',', 'over-hip', 'and', 'under-services', '.'], ['And', 'it', 'was', 'way', 'to', 'expensive', '.'], ['It', 'was', 'so', 'bad', ',', 'I', 'had', 'lost', 'the', 'heart', 'to', 'finish', 'it', '.'], ['He', 'was', 'extremely', 'rude', 'and', 'really', ',', 'there', 'are', 'so', 'many', 'other', 'restaurants', 'I', 'would', 'love', 'to', 'dine', 'at', 'during', 'a', 'weekend', 'in', 'Vegas', '.'], ['Overall', ',', 'I', 'like', 'there', 'food', 'and', 'the', 'service', '.'], ['Wo', \"n't\", 'go', 'back', '.'], ['The', 'owner', 'used', 'to', 'work', 'at', 'Nobu', ',', 'so', 'this', 'place', 'is', 'really', 'similar', 'for', 'half', 'the', 'price', '.'], ['The', 'food', 'was', 'great', 'as', 'always', ',', 'compliments', 'to', 'the', 'chef', '.'], ['Very', 'good', 'lunch', 'spot', '.'], ['like', 'the', 'other', 'reviewer', 'said', '``', 'you', 'could', \"n't\", 'pay', 'me', 'to', 'eat', 'at', 'this', 'place', 'again', '.', \"''\"], ['I', 'do', \"n't\", 'know', 'what', 'the', 'big', 'deal', 'is', 'about', 'this', 'place', ',', 'but', 'I', 'wo', \"n't\", 'be', 'back', '``', \"ya'all\", \"''\", '.'], ['However', ',', 'there', 'was', 'so', 'much', 'garlic', 'in', 'the', 'fondue', ',', 'it', 'was', 'barely', 'edible', '.'], ['I', 'can', 'take', 'a', 'little', 'bad', 'service', 'but', 'the', 'food', 'sucks', '.'], ['We', 'definately', 'enjoyed', 'ourselves', '.'], ['The', 'selection', 'was', 'probably', 'the', 'worst', 'I', \"'ve\", 'seen', 'in', 'Vegas', '...', '..there', 'was', 'none', '.'], ['Ordered', 'a', 'double', 'cheeseburger', '&', 'got', 'a', 'single', 'patty', 'that', 'was', 'falling', 'apart', '(', 'picture', 'uploaded', ')', 'Yeah', ',', 'still', 'sucks', '.'], ['Things', 'that', 'went', 'wrong', ':', '-', 'They', 'burned', 'the', 'saganaki', '.'], ['Their', 'monster', 'chicken', 'fried', 'steak', 'and', 'eggs', 'is', 'my', 'all', 'time', 'favorite', '.'], ['I', 'personally', 'love', 'the', 'hummus', ',', 'pita', ',', 'baklava', ',', 'falafels', 'and', 'Baba', 'Ganoush', '(', 'it', \"'s\", 'amazing', 'what', 'they', 'do', 'with', 'eggplant', '!', ')', '.'], ['As', 'for', 'the', '``', 'mains', ',', \"''\", 'also', 'uninspired', '.'], ['Do', \"n't\", 'bother', 'coming', 'here', '.'], ['Great', 'food', 'for', 'the', 'price', ',', 'which', 'is', 'very', 'high', 'quality', 'and', 'house', 'made', '.'], ['Never', 'again', 'will', 'I', 'be', 'dining', 'at', 'this', 'place', '!'], ['And', 'then', 'tragedy', 'struck', '.'], ['CONCLUSION', ':', 'Very', 'filling', 'meals', '.'], ['The', 'chips', 'that', 'came', 'out', 'were', 'dripping', 'with', 'grease', ',', 'and', 'mostly', 'not', 'edible', '.'], ['The', 'staff', 'is', 'great', ',', 'the', 'food', 'is', 'delish', ',', 'and', 'they', 'have', 'an', 'incredible', 'beer', 'selection', '.'], ['-', 'the', 'food', 'is', 'rich', 'so', 'order', 'accordingly', '.'], ['the', 'presentation', 'of', 'the', 'food', 'was', 'awful', '.'], ['My', 'boyfriend', 'and', 'i', 'sat', 'at', 'the', 'bar', 'and', 'had', 'a', 'completely', 'delightful', 'experience', '.'], ['I', 'would', 'recommend', 'saving', 'room', 'for', 'this', '!'], ['I', 'think', 'this', 'restaurant', 'suffers', 'from', 'not', 'trying', 'hard', 'enough', '.'], ['Some', 'may', 'say', 'this', 'buffet', 'is', 'pricey', 'but', 'I', 'think', 'you', 'get', 'what', 'you', 'pay', 'for', 'and', 'this', 'place', 'you', 'are', 'getting', 'quite', 'a', 'lot', '!'], ['The', 'Macarons', 'here', 'are', 'insanely', 'good', '.'], ['Not', 'to', 'mention', 'the', 'combination', 'of', 'pears', ',', 'almonds', 'and', 'bacon', 'is', 'a', 'big', 'winner', '!'], ['*', 'Both', 'the', 'Hot', '&', 'Sour', '&', 'the', 'Egg', 'Flower', 'Soups', 'were', 'absolutely', '5', 'Stars', '!'], ['5', 'stars', 'for', 'the', 'brick', 'oven', 'bread', 'app', '!'], ['We', 'sat', 'another', 'ten', 'minutes', 'and', 'finally', 'gave', 'up', 'and', 'left', '.'], ['There', 'is', 'nothing', 'privileged', 'about', 'working/eating', 'there', '.'], ['The', 'cashier', 'was', 'friendly', 'and', 'even', 'brought', 'the', 'food', 'out', 'to', 'me', '.'], ['-', 'Really', ',', 'really', 'good', 'rice', ',', 'all', 'the', 'time', '.'], ['Not', 'good', 'for', 'the', 'money', '.'], ['It', 'was', 'a', 'huge', 'awkward', '1.5lb', 'piece', 'of', 'cow', 'that', 'was', '3/4ths', 'gristle', 'and', 'fat', '.']]\n"
     ]
    }
   ],
   "source": [
    "print(newlist)"
   ]
  },
  {
   "cell_type": "code",
   "execution_count": 13,
   "metadata": {},
   "outputs": [],
   "source": [
    "from gensim.models import FastText\n",
    "# FastText word embedding\n",
    "ft_model_review = FastText(newlist, \n",
    "                    size=100, window=5, min_count=4, workers=4, min_n=3, max_n=10)\n",
    " "
   ]
  },
  {
   "cell_type": "code",
   "execution_count": 15,
   "metadata": {},
   "outputs": [
    {
     "name": "stdout",
     "output_type": "stream",
     "text": [
      "[ 0.01355879 -0.14747097  0.14288212  0.10979275  0.02218762  0.11582632\n",
      " -0.03886069 -0.0390524  -0.02623653  0.13664816 -0.02285317  0.0433706\n",
      " -0.0731048  -0.1364464  -0.03824088 -0.05605302 -0.07640898 -0.11711276\n",
      " -0.01456512  0.01591831 -0.1338591  -0.02567076 -0.03557475  0.1639803\n",
      "  0.00757322  0.01696297  0.02539162 -0.1028528   0.11327029  0.07226017\n",
      "  0.03497475  0.02524179  0.10158563  0.07132339  0.06801736 -0.03382779\n",
      " -0.09607399  0.17618418 -0.0816518   0.00401394 -0.12039667  0.07680925\n",
      " -0.1152503   0.12132717 -0.14810444 -0.0298215   0.09335233  0.00936908\n",
      "  0.04789409  0.06505845]\n"
     ]
    },
    {
     "name": "stderr",
     "output_type": "stream",
     "text": [
      "/Users/rajnishechauhan/anaconda/envs/dl_env/lib/python3.6/site-packages/ipykernel_launcher.py:1: DeprecationWarning: Call to deprecated `__getitem__` (Method will be removed in 4.0.0, use self.wv.__getitem__() instead).\n",
      "  \"\"\"Entry point for launching an IPython kernel.\n"
     ]
    }
   ],
   "source": [
    "print(ft_model_review['take'][0:50])"
   ]
  },
  {
   "cell_type": "code",
   "execution_count": 18,
   "metadata": {},
   "outputs": [],
   "source": [
    "# Create embedded matrix\n",
    "import numpy as np\n",
    "def create_embedding_matrix(model,word_index, embedding_dim):\n",
    "    \n",
    "    vocab_size = len(word_index) + 1 \n",
    "    # Adding again 1 because of reserved 0 index\n",
    "    \n",
    "    embedding_matrix = np.zeros((vocab_size, embedding_dim))\n",
    "    #words = list(wordEmbedding.wv.vocab)\n",
    "    words = list(model.wv.vocab)\n",
    "    for i, word in enumerate(words):\n",
    "        if word in word_index:\n",
    "            idx = word_index[word]\n",
    "            embedding_matrix[idx] = np.array(model[word], dtype=np.float32)[:embedding_dim]\n",
    "    return embedding_matrix        "
   ]
  },
  {
   "cell_type": "code",
   "execution_count": 19,
   "metadata": {},
   "outputs": [
    {
     "name": "stderr",
     "output_type": "stream",
     "text": [
      "/Users/rajnishechauhan/anaconda/envs/dl_env/lib/python3.6/site-packages/ipykernel_launcher.py:14: DeprecationWarning: Call to deprecated `__getitem__` (Method will be removed in 4.0.0, use self.wv.__getitem__() instead).\n",
      "  \n"
     ]
    }
   ],
   "source": [
    "embedding_dime = 100\n",
    "embedding_matrix_review = create_embedding_matrix(ft_model_review,\n",
    "                                           tokenizer.word_index, \n",
    "                                           embedding_dime)"
   ]
  },
  {
   "cell_type": "code",
   "execution_count": 55,
   "metadata": {},
   "outputs": [],
   "source": [
    "# word2vec embedding\n",
    "from gensim.models import Word2Vec\n",
    "\n",
    "wordEmbedding = Word2Vec(newlist, min_count=1,size= 200,\n",
    "                         workers=3, window =3, sg = 1)"
   ]
  },
  {
   "cell_type": "code",
   "execution_count": 56,
   "metadata": {},
   "outputs": [
    {
     "name": "stderr",
     "output_type": "stream",
     "text": [
      "/Users/rajnishechauhan/anaconda/envs/dl_env/lib/python3.6/site-packages/ipykernel_launcher.py:14: DeprecationWarning: Call to deprecated `__getitem__` (Method will be removed in 4.0.0, use self.wv.__getitem__() instead).\n",
      "  \n"
     ]
    }
   ],
   "source": [
    "embedding_dime = 200\n",
    "embedding_matrix_review_w2vec = create_embedding_matrix(wordEmbedding,\n",
    "                                           tokenizer.word_index, \n",
    "                                           embedding_dime)"
   ]
  },
  {
   "cell_type": "code",
   "execution_count": 57,
   "metadata": {},
   "outputs": [],
   "source": [
    "from keras.models import Sequential\n",
    "from keras import layers\n",
    "from keras.layers.core import Dropout"
   ]
  },
  {
   "cell_type": "code",
   "execution_count": 58,
   "metadata": {},
   "outputs": [
    {
     "name": "stdout",
     "output_type": "stream",
     "text": [
      "_________________________________________________________________\n",
      "Layer (type)                 Output Shape              Param #   \n",
      "=================================================================\n",
      "embedding_9 (Embedding)      (None, 100, 200)          349400    \n",
      "_________________________________________________________________\n",
      "conv1d_4 (Conv1D)            (None, 96, 128)           128128    \n",
      "_________________________________________________________________\n",
      "global_max_pooling1d_10 (Glo (None, 128)               0         \n",
      "_________________________________________________________________\n",
      "dense_19 (Dense)             (None, 10)                1290      \n",
      "_________________________________________________________________\n",
      "dense_20 (Dense)             (None, 1)                 11        \n",
      "=================================================================\n",
      "Total params: 478,829\n",
      "Trainable params: 478,829\n",
      "Non-trainable params: 0\n",
      "_________________________________________________________________\n"
     ]
    }
   ],
   "source": [
    "model3 = Sequential()\n",
    "\n",
    "model3.add(layers.Embedding(vocab_size, \n",
    "                            embedding_dime,\n",
    "                            #weights=[embedding_matrix_review],\n",
    "                            weights=[embedding_matrix_review_w2vec],\n",
    "                            input_length=100,\n",
    "                            trainable=True)) # Make it False\n",
    "model3.add(layers.Conv1D(128, 5, activation='relu'))\n",
    "model3.add(layers.GlobalMaxPool1D())\n",
    "\n",
    "#model3.add(layers.Dense(50, activation='relu'))\n",
    "#model3.add(Dropout(0.3))\n",
    "model3.add(layers.Dense(10, activation='relu'))\n",
    "model3.add(layers.Dense(1, activation='sigmoid'))\n",
    "model3.compile(optimizer='adam',loss='binary_crossentropy',metrics=['accuracy'])\n",
    "model3.summary()"
   ]
  },
  {
   "cell_type": "code",
   "execution_count": 59,
   "metadata": {},
   "outputs": [
    {
     "name": "stdout",
     "output_type": "stream",
     "text": [
      "Train on 750 samples, validate on 250 samples\n",
      "Epoch 1/50\n",
      "750/750 [==============================] - 4s 5ms/step - loss: 0.6935 - acc: 0.5133 - val_loss: 0.6826 - val_acc: 0.6200\n",
      "Epoch 2/50\n",
      "750/750 [==============================] - 3s 3ms/step - loss: 0.5880 - acc: 0.7360 - val_loss: 0.5513 - val_acc: 0.6720\n",
      "Epoch 3/50\n",
      "750/750 [==============================] - 3s 3ms/step - loss: 0.2321 - acc: 0.9213 - val_loss: 0.4551 - val_acc: 0.7760\n",
      "Epoch 4/50\n",
      "750/750 [==============================] - 3s 3ms/step - loss: 0.0440 - acc: 0.9960 - val_loss: 0.5126 - val_acc: 0.7800\n",
      "Epoch 5/50\n",
      "750/750 [==============================] - 3s 4ms/step - loss: 0.0104 - acc: 0.9987 - val_loss: 0.5779 - val_acc: 0.7800\n",
      "Epoch 6/50\n",
      "750/750 [==============================] - 3s 4ms/step - loss: 0.0049 - acc: 1.0000 - val_loss: 0.6102 - val_acc: 0.7840\n",
      "Epoch 7/50\n",
      "750/750 [==============================] - 3s 3ms/step - loss: 0.0023 - acc: 1.0000 - val_loss: 0.6486 - val_acc: 0.7800\n",
      "Epoch 8/50\n",
      "750/750 [==============================] - 3s 3ms/step - loss: 0.0014 - acc: 1.0000 - val_loss: 0.6808 - val_acc: 0.7760\n",
      "Epoch 9/50\n",
      "750/750 [==============================] - 3s 4ms/step - loss: 8.3885e-04 - acc: 1.0000 - val_loss: 0.7227 - val_acc: 0.7760\n",
      "Epoch 10/50\n",
      "750/750 [==============================] - 3s 4ms/step - loss: 5.0793e-04 - acc: 1.0000 - val_loss: 0.7685 - val_acc: 0.7800\n",
      "Epoch 11/50\n",
      "750/750 [==============================] - 3s 4ms/step - loss: 3.2251e-04 - acc: 1.0000 - val_loss: 0.8020 - val_acc: 0.7800\n",
      "Epoch 12/50\n",
      "750/750 [==============================] - 3s 4ms/step - loss: 2.2201e-04 - acc: 1.0000 - val_loss: 0.8440 - val_acc: 0.7720\n",
      "Epoch 13/50\n",
      "750/750 [==============================] - 3s 4ms/step - loss: 1.5601e-04 - acc: 1.0000 - val_loss: 0.8652 - val_acc: 0.7720\n",
      "Epoch 14/50\n",
      "750/750 [==============================] - 3s 4ms/step - loss: 1.2011e-04 - acc: 1.0000 - val_loss: 0.8973 - val_acc: 0.7800\n",
      "Epoch 15/50\n",
      "750/750 [==============================] - 3s 4ms/step - loss: 9.1711e-05 - acc: 1.0000 - val_loss: 0.9215 - val_acc: 0.7800\n",
      "Epoch 16/50\n",
      "750/750 [==============================] - 3s 4ms/step - loss: 7.3221e-05 - acc: 1.0000 - val_loss: 0.9415 - val_acc: 0.7800\n",
      "Epoch 17/50\n",
      "750/750 [==============================] - 3s 4ms/step - loss: 6.1064e-05 - acc: 1.0000 - val_loss: 0.9707 - val_acc: 0.7680\n",
      "Epoch 18/50\n",
      "750/750 [==============================] - 3s 4ms/step - loss: 4.9949e-05 - acc: 1.0000 - val_loss: 0.9814 - val_acc: 0.7720\n",
      "Epoch 19/50\n",
      "750/750 [==============================] - 3s 4ms/step - loss: 4.0597e-05 - acc: 1.0000 - val_loss: 0.9983 - val_acc: 0.7720\n",
      "Epoch 20/50\n",
      "750/750 [==============================] - 3s 4ms/step - loss: 2.8580e-05 - acc: 1.0000 - val_loss: 1.0245 - val_acc: 0.7680\n",
      "Epoch 21/50\n",
      "750/750 [==============================] - 3s 4ms/step - loss: 2.0863e-05 - acc: 1.0000 - val_loss: 1.0526 - val_acc: 0.7640\n",
      "Epoch 22/50\n",
      "750/750 [==============================] - 3s 5ms/step - loss: 1.6465e-05 - acc: 1.0000 - val_loss: 1.0782 - val_acc: 0.7720\n",
      "Epoch 23/50\n",
      "750/750 [==============================] - 3s 4ms/step - loss: 1.3656e-05 - acc: 1.0000 - val_loss: 1.0937 - val_acc: 0.7720\n",
      "Epoch 24/50\n",
      "750/750 [==============================] - 3s 4ms/step - loss: 1.1511e-05 - acc: 1.0000 - val_loss: 1.1095 - val_acc: 0.7720\n",
      "Epoch 25/50\n",
      "750/750 [==============================] - 3s 4ms/step - loss: 9.9246e-06 - acc: 1.0000 - val_loss: 1.1223 - val_acc: 0.7680\n",
      "Epoch 26/50\n",
      "750/750 [==============================] - 3s 4ms/step - loss: 8.6377e-06 - acc: 1.0000 - val_loss: 1.1372 - val_acc: 0.7720\n",
      "Epoch 27/50\n",
      "750/750 [==============================] - 3s 4ms/step - loss: 7.5986e-06 - acc: 1.0000 - val_loss: 1.1479 - val_acc: 0.7720\n",
      "Epoch 28/50\n",
      "750/750 [==============================] - 3s 4ms/step - loss: 6.7553e-06 - acc: 1.0000 - val_loss: 1.1593 - val_acc: 0.7720\n",
      "Epoch 29/50\n",
      "750/750 [==============================] - 3s 4ms/step - loss: 6.0593e-06 - acc: 1.0000 - val_loss: 1.1703 - val_acc: 0.7720\n",
      "Epoch 30/50\n",
      "750/750 [==============================] - 3s 4ms/step - loss: 5.4654e-06 - acc: 1.0000 - val_loss: 1.1798 - val_acc: 0.7680\n",
      "Epoch 31/50\n",
      "750/750 [==============================] - 3s 4ms/step - loss: 4.9530e-06 - acc: 1.0000 - val_loss: 1.1899 - val_acc: 0.7720\n",
      "Epoch 32/50\n",
      "750/750 [==============================] - 3s 4ms/step - loss: 4.5113e-06 - acc: 1.0000 - val_loss: 1.1994 - val_acc: 0.7680\n",
      "Epoch 33/50\n",
      "750/750 [==============================] - 3s 4ms/step - loss: 4.1109e-06 - acc: 1.0000 - val_loss: 1.2090 - val_acc: 0.7720\n",
      "Epoch 34/50\n",
      "750/750 [==============================] - 3s 4ms/step - loss: 3.7803e-06 - acc: 1.0000 - val_loss: 1.2172 - val_acc: 0.7680\n",
      "Epoch 35/50\n",
      "750/750 [==============================] - 4s 5ms/step - loss: 3.4636e-06 - acc: 1.0000 - val_loss: 1.2254 - val_acc: 0.7680\n",
      "Epoch 36/50\n",
      "750/750 [==============================] - 3s 4ms/step - loss: 3.1888e-06 - acc: 1.0000 - val_loss: 1.2351 - val_acc: 0.7720\n",
      "Epoch 37/50\n",
      "750/750 [==============================] - 3s 4ms/step - loss: 2.9530e-06 - acc: 1.0000 - val_loss: 1.2420 - val_acc: 0.7680\n",
      "Epoch 38/50\n",
      "750/750 [==============================] - 3s 4ms/step - loss: 2.7370e-06 - acc: 1.0000 - val_loss: 1.2498 - val_acc: 0.7720\n",
      "Epoch 39/50\n",
      "750/750 [==============================] - 3s 4ms/step - loss: 2.5353e-06 - acc: 1.0000 - val_loss: 1.2569 - val_acc: 0.7680\n",
      "Epoch 40/50\n",
      "750/750 [==============================] - 3s 4ms/step - loss: 2.3792e-06 - acc: 1.0000 - val_loss: 1.2645 - val_acc: 0.7680\n",
      "Epoch 41/50\n",
      "750/750 [==============================] - 3s 4ms/step - loss: 2.2185e-06 - acc: 1.0000 - val_loss: 1.2709 - val_acc: 0.7680\n",
      "Epoch 42/50\n",
      "750/750 [==============================] - 3s 4ms/step - loss: 2.0611e-06 - acc: 1.0000 - val_loss: 1.2787 - val_acc: 0.7680\n",
      "Epoch 43/50\n",
      "750/750 [==============================] - 3s 4ms/step - loss: 1.9216e-06 - acc: 1.0000 - val_loss: 1.2858 - val_acc: 0.7680\n",
      "Epoch 44/50\n",
      "750/750 [==============================] - 3s 4ms/step - loss: 1.8027e-06 - acc: 1.0000 - val_loss: 1.2931 - val_acc: 0.7720\n",
      "Epoch 45/50\n",
      "750/750 [==============================] - 3s 4ms/step - loss: 1.6945e-06 - acc: 1.0000 - val_loss: 1.2996 - val_acc: 0.7720\n",
      "Epoch 46/50\n",
      "750/750 [==============================] - 3s 4ms/step - loss: 1.5900e-06 - acc: 1.0000 - val_loss: 1.3067 - val_acc: 0.7720\n",
      "Epoch 47/50\n",
      "750/750 [==============================] - 3s 4ms/step - loss: 1.5003e-06 - acc: 1.0000 - val_loss: 1.3135 - val_acc: 0.7720\n",
      "Epoch 48/50\n",
      "750/750 [==============================] - 3s 4ms/step - loss: 1.4090e-06 - acc: 1.0000 - val_loss: 1.3178 - val_acc: 0.7680\n",
      "Epoch 49/50\n",
      "750/750 [==============================] - 3s 4ms/step - loss: 1.3340e-06 - acc: 1.0000 - val_loss: 1.3248 - val_acc: 0.7680\n",
      "Epoch 50/50\n",
      "750/750 [==============================] - 3s 4ms/step - loss: 1.2549e-06 - acc: 1.0000 - val_loss: 1.3306 - val_acc: 0.7680\n"
     ]
    }
   ],
   "source": [
    "history3 = model3.fit(X_train, y_train,\n",
    "                    epochs=50,verbose=True,\n",
    "                    validation_data=(X_test, y_test),\n",
    "                    batch_size=10)"
   ]
  },
  {
   "cell_type": "code",
   "execution_count": 60,
   "metadata": {},
   "outputs": [
    {
     "name": "stdout",
     "output_type": "stream",
     "text": [
      "Training Accuracy: 1.0000\n"
     ]
    }
   ],
   "source": [
    "loss, accuracy = model3.evaluate(X_train, y_train, verbose=False)\n",
    "print(\"Training Accuracy: {:.4f}\".format(accuracy))"
   ]
  },
  {
   "cell_type": "code",
   "execution_count": 61,
   "metadata": {},
   "outputs": [
    {
     "name": "stdout",
     "output_type": "stream",
     "text": [
      "Training Accuracy: 0.7680\n"
     ]
    }
   ],
   "source": [
    "loss, accuracy = model3.evaluate(X_test, y_test, verbose=False)\n",
    "print(\"Training Accuracy: {:.4f}\".format(accuracy))"
   ]
  },
  {
   "cell_type": "code",
   "execution_count": null,
   "metadata": {},
   "outputs": [],
   "source": []
  }
 ],
 "metadata": {
  "kernelspec": {
   "display_name": "Python 3",
   "language": "python",
   "name": "python3"
  },
  "language_info": {
   "codemirror_mode": {
    "name": "ipython",
    "version": 3
   },
   "file_extension": ".py",
   "mimetype": "text/x-python",
   "name": "python",
   "nbconvert_exporter": "python",
   "pygments_lexer": "ipython3",
   "version": "3.6.8"
  }
 },
 "nbformat": 4,
 "nbformat_minor": 2
}
